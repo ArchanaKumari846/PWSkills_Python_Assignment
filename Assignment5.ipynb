{
 "cells": [
  {
   "cell_type": "markdown",
   "id": "b9a0d79b-4189-4361-80d2-45d827887c84",
   "metadata": {},
   "source": [
    "### Q1. Explain Class and Object with respect to Object-Oriented Programming. Give a suitable example."
   ]
  },
  {
   "cell_type": "markdown",
   "id": "13f9db9c-73d2-4e3b-a938-f236f05999d5",
   "metadata": {},
   "source": [
    "#### Answer:\n",
    "\n",
    "- In object-oriented programming (OOP), a class is a blueprint or template that defines the structure and behavior of objects. It serves as a blueprint for creating multiple instances of objects with similar properties and functionalities. A class encapsulates data (attributes) and functions (methods) that define the behavior of its objects.\n",
    "\n",
    "- An object, on the other hand, is an instance of a class. It represents a specific entity that is created based on the class definition. Each object has its own unique state and can perform actions based on the methods defined in the class.\n",
    "\n",
    "\n",
    "Example:"
   ]
  },
  {
   "cell_type": "code",
   "execution_count": 23,
   "id": "7ee21794-4454-4aef-94fe-f19709f30ea4",
   "metadata": {},
   "outputs": [],
   "source": [
    "#initializing class\n",
    "class Car:\n",
    "    def __init__(self, brand, color): #Initializing __init__ function\n",
    "        self.brand = brand #Initializing attribute1\n",
    "        self.color = color #Initializing attribute2\n",
    "    \n",
    "    def start_engine(self): #defining method1\n",
    "        print(\"Engine started.\")\n",
    "    \n",
    "    def stop_engine(self): #defining method2\n",
    "        print(\"Engine stopped.\")"
   ]
  },
  {
   "cell_type": "markdown",
   "id": "64d5875f-ec11-4c9f-ba28-f8d25e5fbbb5",
   "metadata": {},
   "source": [
    "### Q2. Name the four pillars of OOPs."
   ]
  },
  {
   "cell_type": "markdown",
   "id": "da729c91-4770-44cb-9166-b963127d1715",
   "metadata": {},
   "source": [
    "#### Answer: The four pillars of object-oriented programming (OOP) are:\n",
    "\n",
    "- __Encapsulation:__ Encapsulation refers to the bundling of data (attributes) and methods (functions) together within a class. It helps in achieving data hiding and protecting data integrity by controlling access to the class members.\n",
    "\n",
    "\n",
    "- __Inheritance:__ Inheritance allows the creation of new classes based on existing classes. It enables the derived classes (subclasses) to inherit the properties and behaviors of the base class (superclass). This promotes code reusability and hierarchical organization of classes.\n",
    "\n",
    "\n",
    "- __Polymorphism:__ Polymorphism allows objects of different classes to be treated as objects of a common base class. It enables methods to be implemented in different ways in different classes while still maintaining a common interface. Polymorphism enhances flexibility and extensibility in OOP.\n",
    "\n",
    "- __Abstraction:__ Abstraction refers to the process of simplifying complex systems by representing the essential features and hiding unnecessary details. It involves creating abstract classes or interfaces that define the common structure and behavior without providing specific implementation details."
   ]
  },
  {
   "cell_type": "markdown",
   "id": "87fb4972-3512-4d51-830d-cd269c052c16",
   "metadata": {},
   "source": [
    "### Q3. Explain why the __init__() function is used. Give a suitable example."
   ]
  },
  {
   "cell_type": "markdown",
   "id": "e4df8514-bec4-4e9a-b510-561a6c72ccda",
   "metadata": {},
   "source": [
    "#### Answer:\n",
    "\n",
    "- The __init__() function, also known as the constructor. \n",
    "- It is used in Python to initialize the newly created object of a class. \n",
    "- It is called automatically when an object is created from a class. \n",
    "- The primary purpose of the __init__() function is to set up the initial state of the object by initializing its attributes.\n",
    "\n",
    "Example:"
   ]
  },
  {
   "cell_type": "code",
   "execution_count": 24,
   "id": "c6cfeea9-cd34-4032-9c81-737f709a30a3",
   "metadata": {},
   "outputs": [],
   "source": [
    "class Employee:\n",
    "    def __init__(self, name, age):\n",
    "        self.name = name\n",
    "        self.age = age"
   ]
  },
  {
   "cell_type": "code",
   "execution_count": 25,
   "id": "a75704fe-9d9d-437d-818e-ccb66c03d053",
   "metadata": {},
   "outputs": [],
   "source": [
    "detail = Employee(\"Divya\", 25)"
   ]
  },
  {
   "cell_type": "markdown",
   "id": "1c3da4d0-4a20-4d9f-881b-d94e93e31e49",
   "metadata": {},
   "source": [
    "### Q4. Why self is used in OOPs?"
   ]
  },
  {
   "cell_type": "markdown",
   "id": "a1301d63-c82d-40f3-b6fa-41bbfc35af9a",
   "metadata": {},
   "source": [
    "#### Answer:\n",
    "\n",
    "-  In object-oriented programming, self is used as a convention to refer to the instance of a class within the class methods. It is the first parameter of any class method and represents the object itself.\n",
    "\n",
    "- When a method is called on an object, the self parameter is automatically passed and refers to that specific object. It allows the method to access and manipulate the attributes and methods of the object.\n",
    "\n",
    "Example:"
   ]
  },
  {
   "cell_type": "code",
   "execution_count": 26,
   "id": "d91ccadc-531f-440c-955e-dc1588bb7209",
   "metadata": {},
   "outputs": [],
   "source": [
    "class Employee:\n",
    "    def __init__(self, name, age):\n",
    "        self.name = name\n",
    "        self.age = age\n",
    "    \n",
    "    def greet(self):\n",
    "        print(\"My name is\", self.name, \"and my age is\", self.age)"
   ]
  },
  {
   "cell_type": "code",
   "execution_count": 27,
   "id": "ea664aa6-e76c-4c46-96ef-a3ff40a4d0bb",
   "metadata": {},
   "outputs": [
    {
     "name": "stdout",
     "output_type": "stream",
     "text": [
      "My name is Amit and my age is 26\n"
     ]
    }
   ],
   "source": [
    "details = Employee(\"Amit\", 26)\n",
    "details.greet()"
   ]
  },
  {
   "cell_type": "markdown",
   "id": "40be8712-e87e-47b7-88c0-7f7c76f994a9",
   "metadata": {},
   "source": [
    "### Q5. What is inheritance? Give an example for each type of inheritance."
   ]
  },
  {
   "cell_type": "markdown",
   "id": "dcef0ef6-679a-4287-84e6-0cb6a04cff20",
   "metadata": {},
   "source": [
    "#### Answer:\n",
    "\n",
    "- Inheritance is a fundamental concept in object-oriented programming that allows a class to inherit the properties and behaviors of another class. The class that is being inherited from is called the base class, parent class, or superclass, while the class that inherits is called the derived class, child class, or subclass.\n",
    "\n",
    "- Inheritance allows the derived class to reuse and extend the functionality of the base class. It promotes code reusability, modularity, and hierarchy in object-oriented systems.\n",
    "\n",
    "- There are different types of inheritance: Single Inheritance, Multiple Inheritance, Multilevel Inheritance"
   ]
  },
  {
   "cell_type": "markdown",
   "id": "29e81bb3-818e-4a32-8b2a-f4405fd118fa",
   "metadata": {},
   "source": [
    "##### 1. Single Inheritance: \n",
    "In single inheritance, a derived class inherits from a single base class. It forms a one-to-one parent-child relationship. For example:\n",
    "\n",
    "Example:"
   ]
  },
  {
   "cell_type": "code",
   "execution_count": 28,
   "id": "98818601-c952-4db3-b5ba-aea222cd0b38",
   "metadata": {},
   "outputs": [],
   "source": [
    "class Shape:\n",
    "    def __init__(self, color):\n",
    "        self.color = color\n",
    "\n",
    "    def draw(self):\n",
    "        print(f\"Drawing a shape with color: {self.color}\")\n",
    "\n",
    "\n",
    "class Circle(Shape):\n",
    "    def __init__(self, color, radius):\n",
    "        super().__init__(color)\n",
    "        self.radius = radius\n",
    "\n",
    "    def calculate_area(self):\n",
    "        return 3.14 * self.radius ** 2"
   ]
  },
  {
   "cell_type": "code",
   "execution_count": 29,
   "id": "18aee340-2d8b-4328-bbfb-e34a3a9e3e46",
   "metadata": {},
   "outputs": [
    {
     "name": "stdout",
     "output_type": "stream",
     "text": [
      "Drawing a shape with color: Red\n",
      "Area of the circle: 78.5\n"
     ]
    }
   ],
   "source": [
    "circle = Circle(\"Red\", 5)\n",
    "circle.draw()  # Inherited from Shape class\n",
    "area = circle.calculate_area()\n",
    "print(f\"Area of the circle: {area}\")"
   ]
  },
  {
   "cell_type": "markdown",
   "id": "eba15de0-11e7-4a3f-9a11-3e2a7a7411a7",
   "metadata": {},
   "source": [
    "##### 2. Multiple Inheritance: \n",
    "In multiple inheritance, a derived class can inherit from multiple base classes. It forms a hierarchy where a class inherits from more than one class. \n",
    "\n",
    "Example:"
   ]
  },
  {
   "cell_type": "code",
   "execution_count": 30,
   "id": "5f69b2fa-fcfd-43f0-bf73-867ea53ae9c1",
   "metadata": {},
   "outputs": [
    {
     "name": "stdout",
     "output_type": "stream",
     "text": [
      "Driving\n",
      "Sailing\n"
     ]
    }
   ],
   "source": [
    "class Car:\n",
    "    def drive(self):\n",
    "        print(\"Driving\")\n",
    "\n",
    "class Boat:\n",
    "    def sail(self):\n",
    "        print(\"Sailing\")\n",
    "\n",
    "class AmphibiousVehicle(Car, Boat):\n",
    "    pass\n",
    "\n",
    "vehicle = AmphibiousVehicle()\n",
    "vehicle.drive()  # Inherited from Car class\n",
    "vehicle.sail()   # Inherited from Boat class"
   ]
  },
  {
   "cell_type": "markdown",
   "id": "3b7db8b9-641b-4fda-b506-e431629e2df0",
   "metadata": {},
   "source": [
    "##### 3. Multilevel Inheritance: \n",
    "In multilevel inheritance, a derived class inherits from a base class, and then another class inherits from that derived class. It forms a chain of inheritance. \n",
    "\n",
    "Example:"
   ]
  },
  {
   "cell_type": "code",
   "execution_count": 31,
   "id": "493d129b-f88e-4b18-98a9-db80d577aeda",
   "metadata": {},
   "outputs": [],
   "source": [
    "class Vehicle:\n",
    "    def __init__(self, brand):\n",
    "        self.brand = brand\n",
    "\n",
    "    def drive(self):\n",
    "        print(f\"{self.brand} is driving.\")\n",
    "\n",
    "\n",
    "class Car(Vehicle):\n",
    "    def honk(self):\n",
    "        print(f\"{self.brand} is honking.\")\n",
    "\n",
    "\n",
    "class SportsCar(Car):\n",
    "    def accelerate(self):\n",
    "        print(f\"{self.brand} is accelerating at high speed.\")"
   ]
  },
  {
   "cell_type": "code",
   "execution_count": 32,
   "id": "43137763-91be-4976-a87d-4a2be5ffc20f",
   "metadata": {},
   "outputs": [
    {
     "name": "stdout",
     "output_type": "stream",
     "text": [
      "Ferrari is driving.\n",
      "Ferrari is honking.\n",
      "Ferrari is accelerating at high speed.\n"
     ]
    }
   ],
   "source": [
    "car = SportsCar(\"Ferrari\")\n",
    "car.drive()       # Inherited from Vehicle class\n",
    "car.honk()        # Inherited from Car class\n",
    "car.accelerate()  # Inherited from SportsCar class"
   ]
  },
  {
   "cell_type": "code",
   "execution_count": null,
   "id": "160fc6e7-e72a-415c-9b43-93621884af46",
   "metadata": {},
   "outputs": [],
   "source": []
  }
 ],
 "metadata": {
  "kernelspec": {
   "display_name": "Python 3 (ipykernel)",
   "language": "python",
   "name": "python3"
  },
  "language_info": {
   "codemirror_mode": {
    "name": "ipython",
    "version": 3
   },
   "file_extension": ".py",
   "mimetype": "text/x-python",
   "name": "python",
   "nbconvert_exporter": "python",
   "pygments_lexer": "ipython3",
   "version": "3.10.8"
  }
 },
 "nbformat": 4,
 "nbformat_minor": 5
}
