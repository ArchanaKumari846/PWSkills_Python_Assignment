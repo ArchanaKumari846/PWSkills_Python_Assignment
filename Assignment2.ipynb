{
 "cells": [
  {
   "cell_type": "markdown",
   "id": "5df05ee3-9f91-416c-ac84-86aa2751ab24",
   "metadata": {},
   "source": [
    "#### Q1. How do you comment code in Python? What are the different types of comments?"
   ]
  },
  {
   "cell_type": "markdown",
   "id": "8dc4c43b-4c38-4333-90f7-c1e898907295",
   "metadata": {},
   "source": [
    "##### Answer:\n",
    "\n",
    "Single Line Comment and Multi Line Comment are the different types of comments.\n",
    "\n",
    "Example:"
   ]
  },
  {
   "cell_type": "code",
   "execution_count": 1,
   "id": "c79ff6aa-ad3b-4e14-8209-7ad3e9999351",
   "metadata": {},
   "outputs": [
    {
     "data": {
      "text/plain": [
       "20"
      ]
     },
     "execution_count": 1,
     "metadata": {},
     "output_type": "execute_result"
    }
   ],
   "source": [
    "# Single Line Comment\n",
    "## Comments##\n",
    "\n",
    "\"\"\" Multi Line Comments\n",
    " Print (Comments)\"\"\"\n",
    "\n",
    "'''\n",
    "Multi Line Comments\n",
    "'''\n",
    "\n",
    "a=20\n",
    "a"
   ]
  },
  {
   "cell_type": "markdown",
   "id": "54ff0c48-97af-4e59-8575-bc2eb220c74d",
   "metadata": {},
   "source": [
    "#### Q2. What are variables in Python? How do you declare and assign values to variables?"
   ]
  },
  {
   "cell_type": "markdown",
   "id": "5e144328-a45a-402c-9362-b1f3bbe3c782",
   "metadata": {},
   "source": [
    "##### Answer:\n",
    "\n",
    "Variables are used to store the data value. We assign a value and the variable is created.\n",
    "\n",
    "Example:"
   ]
  },
  {
   "cell_type": "code",
   "execution_count": 2,
   "id": "bdb9783c-538b-45a9-a62f-eede6aa35774",
   "metadata": {},
   "outputs": [
    {
     "data": {
      "text/plain": [
       "5"
      ]
     },
     "execution_count": 2,
     "metadata": {},
     "output_type": "execute_result"
    }
   ],
   "source": [
    "var = 5  # var is variable and we have assigned value '5' to it.\n",
    "\n",
    "var"
   ]
  },
  {
   "cell_type": "markdown",
   "id": "f18d4aed-e87b-45c9-827c-6c72c1dbcc50",
   "metadata": {},
   "source": [
    "#### Q3. How do you convert one data type to another in Python?"
   ]
  },
  {
   "cell_type": "markdown",
   "id": "371c36ad-b4fc-4a5f-9c54-35857e116287",
   "metadata": {},
   "source": [
    "##### Answer:"
   ]
  },
  {
   "cell_type": "code",
   "execution_count": 3,
   "id": "030275ca-9832-43ec-a967-26e7d221ea68",
   "metadata": {},
   "outputs": [
    {
     "data": {
      "text/plain": [
       "int"
      ]
     },
     "execution_count": 3,
     "metadata": {},
     "output_type": "execute_result"
    }
   ],
   "source": [
    "a=5\n",
    "type(a)"
   ]
  },
  {
   "cell_type": "code",
   "execution_count": 4,
   "id": "3213def7-6dbc-45d1-ae2a-b606692eba43",
   "metadata": {},
   "outputs": [
    {
     "data": {
      "text/plain": [
       "5.0"
      ]
     },
     "execution_count": 4,
     "metadata": {},
     "output_type": "execute_result"
    }
   ],
   "source": [
    "float(a)"
   ]
  },
  {
   "cell_type": "code",
   "execution_count": 5,
   "id": "a3607a45-adc5-44f2-8346-fa914f78998b",
   "metadata": {},
   "outputs": [
    {
     "data": {
      "text/plain": [
       "'5'"
      ]
     },
     "execution_count": 5,
     "metadata": {},
     "output_type": "execute_result"
    }
   ],
   "source": [
    "str(a)"
   ]
  },
  {
   "cell_type": "markdown",
   "id": "97df4101-a153-4663-a6b1-cff0c4671d7c",
   "metadata": {},
   "source": [
    "#### Q4. How do you write and execute a Python script from the command line?"
   ]
  },
  {
   "cell_type": "markdown",
   "id": "5a55dd76-1f31-4b8f-8392-7abbc43b3567",
   "metadata": {},
   "source": [
    "##### Answer:\n",
    "\n",
    "Open a command-line and type python3, followed by the path to the script.\n",
    "\n",
    "Example:\n",
    "\n",
    "$ python3 hello.py\n",
    "Hello World!"
   ]
  },
  {
   "cell_type": "markdown",
   "id": "4791ebe9-894e-4424-aa28-931b5808b80e",
   "metadata": {},
   "source": [
    "#### Q5. Given a list my_list = [1, 2, 3, 4, 5], write the code to slice the list and obtain the sub-list [2, 3]."
   ]
  },
  {
   "cell_type": "markdown",
   "id": "e286a98d-92d1-4fe0-82cc-cf6ea57945a4",
   "metadata": {},
   "source": [
    "##### Answer:"
   ]
  },
  {
   "cell_type": "code",
   "execution_count": 6,
   "id": "bfccc4a5-c0f9-440a-9d67-23e683a773d4",
   "metadata": {},
   "outputs": [
    {
     "data": {
      "text/plain": [
       "[2, 3]"
      ]
     },
     "execution_count": 6,
     "metadata": {},
     "output_type": "execute_result"
    }
   ],
   "source": [
    "my_list = [1, 2, 3, 4, 5]\n",
    "my_list[1:3]"
   ]
  },
  {
   "cell_type": "markdown",
   "id": "84cd854c-cf66-4b45-8548-4ce844319e7f",
   "metadata": {},
   "source": [
    "#### Q6. What is a complex number in mathematics, and how is it represented in Python?"
   ]
  },
  {
   "cell_type": "markdown",
   "id": "9c7fc558-2901-4b05-bdef-1967c67b2c02",
   "metadata": {},
   "source": [
    "##### Answer:"
   ]
  },
  {
   "cell_type": "code",
   "execution_count": 7,
   "id": "8fca7862-8216-416b-bc0d-be372874a946",
   "metadata": {},
   "outputs": [
    {
     "name": "stdout",
     "output_type": "stream",
     "text": [
      "(5+2j)\n"
     ]
    },
    {
     "data": {
      "text/plain": [
       "complex"
      ]
     },
     "execution_count": 7,
     "metadata": {},
     "output_type": "execute_result"
    }
   ],
   "source": [
    "a= 5+2j\n",
    "print(a)\n",
    "type(a)"
   ]
  },
  {
   "cell_type": "markdown",
   "id": "4c7d563b-2bfd-43f4-8c85-c9ef14876656",
   "metadata": {},
   "source": [
    "#### Q7. What is the correct way to declare a variable named age and assign the value 25 to it?"
   ]
  },
  {
   "cell_type": "markdown",
   "id": "87ffc2a7-c5c2-4cc9-9ee4-63852fd32c88",
   "metadata": {},
   "source": [
    "##### Answer:"
   ]
  },
  {
   "cell_type": "code",
   "execution_count": 8,
   "id": "75ab7c46-2e26-4b41-bc8a-d3e485b55745",
   "metadata": {},
   "outputs": [
    {
     "data": {
      "text/plain": [
       "25"
      ]
     },
     "execution_count": 8,
     "metadata": {},
     "output_type": "execute_result"
    }
   ],
   "source": [
    "age= 25\n",
    "age"
   ]
  },
  {
   "cell_type": "markdown",
   "id": "2f7ec951-8a2a-4f20-a6e0-f60844558a9d",
   "metadata": {},
   "source": [
    "#### Q8. Declare a variable named price and assign the value 9.99 to it. What data type does this variable belong to?"
   ]
  },
  {
   "cell_type": "markdown",
   "id": "b2d345db-a686-4c60-848d-8c0ef2d23bdf",
   "metadata": {},
   "source": [
    "##### Answer:"
   ]
  },
  {
   "cell_type": "code",
   "execution_count": 9,
   "id": "75758d6e-9878-4ba6-91da-e90acb8a39d7",
   "metadata": {},
   "outputs": [
    {
     "data": {
      "text/plain": [
       "float"
      ]
     },
     "execution_count": 9,
     "metadata": {},
     "output_type": "execute_result"
    }
   ],
   "source": [
    "price= 9.99\n",
    "type(price)"
   ]
  },
  {
   "cell_type": "markdown",
   "id": "2eaf22d4-36d8-4ef7-9dc9-ff577ab9f0da",
   "metadata": {},
   "source": [
    "#### Q9. Create a variable named name and assign your full name to it as a string. How would you print the value of this variable?"
   ]
  },
  {
   "cell_type": "markdown",
   "id": "83c6daae-4f93-4942-b3ef-ec7a1397a8e2",
   "metadata": {},
   "source": [
    "##### Answer:"
   ]
  },
  {
   "cell_type": "code",
   "execution_count": 10,
   "id": "6cc3bfa4-1bdf-4af4-a547-ce9b24499660",
   "metadata": {},
   "outputs": [
    {
     "data": {
      "text/plain": [
       "'Archana Kumari'"
      ]
     },
     "execution_count": 10,
     "metadata": {},
     "output_type": "execute_result"
    }
   ],
   "source": [
    "name = 'Archana Kumari'\n",
    "name"
   ]
  },
  {
   "cell_type": "markdown",
   "id": "31fda177-2f89-4698-9de6-fba07398e9b5",
   "metadata": {},
   "source": [
    "#### Q10. Given the string \"Hello, World!\", extract the substring \"World\"."
   ]
  },
  {
   "cell_type": "markdown",
   "id": "0ef0d68a-f63f-4ead-b154-99628b89eb96",
   "metadata": {},
   "source": [
    "##### Answer:"
   ]
  },
  {
   "cell_type": "code",
   "execution_count": 11,
   "id": "8d909d50-fbc4-42c5-b43d-8cb41b873c2e",
   "metadata": {},
   "outputs": [
    {
     "data": {
      "text/plain": [
       "'World'"
      ]
     },
     "execution_count": 11,
     "metadata": {},
     "output_type": "execute_result"
    }
   ],
   "source": [
    "list= \"Hello, World!\"\n",
    "list[7:12]"
   ]
  },
  {
   "cell_type": "markdown",
   "id": "30715deb-9ab8-486b-918c-95329dfa9ec4",
   "metadata": {},
   "source": [
    "#### Q11. Create a variable named \"is_student\" and assign it a boolean value indicating whether you are currently a student or not."
   ]
  },
  {
   "cell_type": "markdown",
   "id": "636220ce-73c1-4e01-a4fc-44e795cf9554",
   "metadata": {},
   "source": [
    "##### Answer:"
   ]
  },
  {
   "cell_type": "code",
   "execution_count": 12,
   "id": "0e5e407a-fdf9-4b97-b17e-ae8ae2cd78be",
   "metadata": {},
   "outputs": [
    {
     "data": {
      "text/plain": [
       "True"
      ]
     },
     "execution_count": 12,
     "metadata": {},
     "output_type": "execute_result"
    }
   ],
   "source": [
    "is_student= True\n",
    "is_student"
   ]
  },
  {
   "cell_type": "code",
   "execution_count": 13,
   "id": "68627b99-40e2-4237-b506-e6742de6dc92",
   "metadata": {},
   "outputs": [
    {
     "data": {
      "text/plain": [
       "True"
      ]
     },
     "execution_count": 13,
     "metadata": {},
     "output_type": "execute_result"
    }
   ],
   "source": [
    "bool(is_student)"
   ]
  },
  {
   "cell_type": "code",
   "execution_count": 15,
   "id": "3c5ff70a-3f81-43eb-95da-392e3a99c7c4",
   "metadata": {},
   "outputs": [
    {
     "data": {
      "text/plain": [
       "bool"
      ]
     },
     "execution_count": 15,
     "metadata": {},
     "output_type": "execute_result"
    }
   ],
   "source": [
    "type(is_student)"
   ]
  }
 ],
 "metadata": {
  "kernelspec": {
   "display_name": "Python 3 (ipykernel)",
   "language": "python",
   "name": "python3"
  },
  "language_info": {
   "codemirror_mode": {
    "name": "ipython",
    "version": 3
   },
   "file_extension": ".py",
   "mimetype": "text/x-python",
   "name": "python",
   "nbconvert_exporter": "python",
   "pygments_lexer": "ipython3",
   "version": "3.10.8"
  }
 },
 "nbformat": 4,
 "nbformat_minor": 5
}
