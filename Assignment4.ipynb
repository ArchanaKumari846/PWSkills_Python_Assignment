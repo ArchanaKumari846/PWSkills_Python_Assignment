{
 "cells": [
  {
   "cell_type": "markdown",
   "id": "b9a0d79b-4189-4361-80d2-45d827887c84",
   "metadata": {},
   "source": [
    "### Q1. Create a python program to sort the given list of tuples based on integer value using a lambda function.\n",
    "\n",
    "[('Sachin Tendulkar', 34357), ('Ricky Ponting', 27483), ('Jack Kallis', 25534), ('Virat Kohli', 24936)]"
   ]
  },
  {
   "cell_type": "markdown",
   "id": "13f9db9c-73d2-4e3b-a938-f236f05999d5",
   "metadata": {},
   "source": [
    "#### Answer:\n",
    "\n",
    "A Python program that sorts the given list of tuples based on the integer value using a lambda function is:\n",
    "\n",
    "Example:"
   ]
  },
  {
   "cell_type": "code",
   "execution_count": 2,
   "id": "7ee21794-4454-4aef-94fe-f19709f30ea4",
   "metadata": {},
   "outputs": [],
   "source": [
    "#declaring the list variable with values\n",
    "to_sort = [('Sachin Tendulkar', 34357), ('Ricky Ponting', 27483), ('Jack Kallis', 25534), ('Virat Kohli', 24936)]"
   ]
  },
  {
   "cell_type": "code",
   "execution_count": 3,
   "id": "ab3d2ee9-067f-4197-9fc2-85b04ed1f7ee",
   "metadata": {},
   "outputs": [],
   "source": [
    "# Sorting the list based on the integer value using a lambda function\n",
    "sorted_list = sorted(to_sort, key=lambda x: x[1])"
   ]
  },
  {
   "cell_type": "code",
   "execution_count": 4,
   "id": "f7dfbd08-3a88-452e-bd29-76f4e0298e47",
   "metadata": {},
   "outputs": [
    {
     "name": "stdout",
     "output_type": "stream",
     "text": [
      "('Virat Kohli', 24936)\n",
      "('Jack Kallis', 25534)\n",
      "('Ricky Ponting', 27483)\n",
      "('Sachin Tendulkar', 34357)\n"
     ]
    }
   ],
   "source": [
    "# Print the sorted list\n",
    "for item in sorted_list:\n",
    "    print(item)"
   ]
  },
  {
   "cell_type": "markdown",
   "id": "64d5875f-ec11-4c9f-ba28-f8d25e5fbbb5",
   "metadata": {},
   "source": [
    "### Q2. Write a Python Program to find the squares of all the numbers in the given list of integers using lambda and map functions.\n",
    "\n",
    "[1, 2, 3, 4, 5, 6, 7, 8, 9, 10]"
   ]
  },
  {
   "cell_type": "markdown",
   "id": "da729c91-4770-44cb-9166-b963127d1715",
   "metadata": {},
   "source": [
    "#### Answer:\n",
    "\n",
    "A Python program that uses lambda and map functions to find the squares of all the numbers in the given list of integers:\n",
    "\n",
    "Example:"
   ]
  },
  {
   "cell_type": "code",
   "execution_count": 5,
   "id": "955ebaa7-9769-47ed-8c70-56a2021513c6",
   "metadata": {},
   "outputs": [
    {
     "name": "stdout",
     "output_type": "stream",
     "text": [
      "[1, 4, 27, 256, 3125, 46656, 823543, 16777216, 387420489, 10000000000]\n"
     ]
    }
   ],
   "source": [
    "#declaring the list variable with values\n",
    "num = [1, 2, 3, 4, 5, 6, 7, 8, 9, 10]\n",
    "\n",
    "# Use lambda and map to find squares of all numbers\n",
    "sqr_num= list(map(lambda x: x**x, num))\n",
    "\n",
    "# Print the squared numbers\n",
    "print(sqr_num)"
   ]
  },
  {
   "cell_type": "markdown",
   "id": "87fb4972-3512-4d51-830d-cd269c052c16",
   "metadata": {},
   "source": [
    "### Q3. Write a python program to convert the given list of integers into a tuple of strings. Use map and lambda functions \n",
    "\n",
    "Given String: [1, 2, 3, 4, 5, 6, 7, 8, 9, 10] \n",
    "\n",
    "Expected output: ('1', '2', '3', '4', '5', '6', '7', '8', '9', '10')"
   ]
  },
  {
   "cell_type": "markdown",
   "id": "e4df8514-bec4-4e9a-b510-561a6c72ccda",
   "metadata": {},
   "source": [
    "#### Answer:\n",
    "\n",
    "A Python program that uses lambda and map functions to convert the given list of integers into a tuple of strings:\n",
    "\n",
    "Example:"
   ]
  },
  {
   "cell_type": "code",
   "execution_count": 6,
   "id": "c6cfeea9-cd34-4032-9c81-737f709a30a3",
   "metadata": {},
   "outputs": [],
   "source": [
    "#declaring the list variable with values\n",
    "num_int = [1, 2, 3, 4, 5, 6, 7, 8, 9, 10]"
   ]
  },
  {
   "cell_type": "code",
   "execution_count": 7,
   "id": "a75704fe-9d9d-437d-818e-ccb66c03d053",
   "metadata": {},
   "outputs": [],
   "source": [
    "# Use lambda and map to convert list of integers to tuple of strings\n",
    "tuple_of_strings = tuple(map(lambda x: str(x), num_int))"
   ]
  },
  {
   "cell_type": "code",
   "execution_count": 8,
   "id": "eaf8b52a-c830-48fa-a080-b38d05416f01",
   "metadata": {},
   "outputs": [
    {
     "name": "stdout",
     "output_type": "stream",
     "text": [
      "('1', '2', '3', '4', '5', '6', '7', '8', '9', '10')\n"
     ]
    }
   ],
   "source": [
    "# Print the tuple of strings\n",
    "print(tuple_of_strings)"
   ]
  },
  {
   "cell_type": "markdown",
   "id": "1c3da4d0-4a20-4d9f-881b-d94e93e31e49",
   "metadata": {},
   "source": [
    "### Q4. Write a python program using reduce function to compute the product of a list containing numbers from 1 to 25."
   ]
  },
  {
   "cell_type": "markdown",
   "id": "a1301d63-c82d-40f3-b6fa-41bbfc35af9a",
   "metadata": {},
   "source": [
    "#### Answer:\n",
    "\n",
    "To compute the product of a list containing numbers from 1 to 25 using the reduce() function, we need to import the reduce() function from the functools module. \n",
    "\n",
    "Example:"
   ]
  },
  {
   "cell_type": "code",
   "execution_count": 9,
   "id": "e92c16a6-5ab8-4d39-9bc4-391dca465b99",
   "metadata": {},
   "outputs": [],
   "source": [
    "from functools import reduce"
   ]
  },
  {
   "cell_type": "code",
   "execution_count": 10,
   "id": "d91ccadc-531f-440c-955e-dc1588bb7209",
   "metadata": {},
   "outputs": [],
   "source": [
    "# Define the list containing numbers from 1 to 25\n",
    "numb_redc = list(range(1, 26))"
   ]
  },
  {
   "cell_type": "code",
   "execution_count": 11,
   "id": "ea664aa6-e76c-4c46-96ef-a3ff40a4d0bb",
   "metadata": {},
   "outputs": [],
   "source": [
    "# Use reduce to compute the product of the numbers\n",
    "product_lst = reduce(lambda x, y: x * y, numb_redc)"
   ]
  },
  {
   "cell_type": "code",
   "execution_count": 12,
   "id": "a5984648-7bc3-4b4e-957d-be3f34c68324",
   "metadata": {},
   "outputs": [
    {
     "name": "stdout",
     "output_type": "stream",
     "text": [
      "15511210043330985984000000\n"
     ]
    }
   ],
   "source": [
    "# Print the product\n",
    "print(product_lst)"
   ]
  },
  {
   "cell_type": "markdown",
   "id": "40be8712-e87e-47b7-88c0-7f7c76f994a9",
   "metadata": {},
   "source": [
    "### Q5. Write a python program to filter the numbers in a given list that are divisible by 2 and 3 using the filter function.\n",
    "[2, 3, 6, 9, 27, 60, 90, 120, 55, 46]"
   ]
  },
  {
   "cell_type": "markdown",
   "id": "3b457d7f-a778-4f69-9b86-640eb9b27a13",
   "metadata": {},
   "source": [
    "#### Answer:\n",
    "\n",
    "A Python program that uses the filter() function to filter the numbers in a given list that are divisible by both 2 and 3:\n",
    "\n",
    "Example:"
   ]
  },
  {
   "cell_type": "code",
   "execution_count": 13,
   "id": "fa912078-c1ef-4d55-bb0a-b29cfdecd764",
   "metadata": {},
   "outputs": [],
   "source": [
    "numbr = [2, 3, 6, 9, 27, 60, 90, 120, 55, 46]"
   ]
  },
  {
   "cell_type": "code",
   "execution_count": 14,
   "id": "d6d069f7-4d98-441b-896e-ecbaf9e2860a",
   "metadata": {},
   "outputs": [],
   "source": [
    "# Use filter to get numbers divisible by 2 and 3\n",
    "filtered_numbers = list(filter(lambda x: x % 2 == 0 and x % 3 == 0, numbr))"
   ]
  },
  {
   "cell_type": "code",
   "execution_count": 15,
   "id": "0acbb6e4-400d-4f74-9251-3179917b30f2",
   "metadata": {},
   "outputs": [
    {
     "name": "stdout",
     "output_type": "stream",
     "text": [
      "[6, 60, 90, 120]\n"
     ]
    }
   ],
   "source": [
    "# Print the filtered numbers\n",
    "print(filtered_numbers)"
   ]
  },
  {
   "cell_type": "markdown",
   "id": "849c3a8a-1ee0-4140-bc24-440f975ff5c6",
   "metadata": {},
   "source": [
    "### Q6. Write a python program to find palindromes in the given list of strings using lambda and filter function. \n",
    "['python', 'php', 'aba', 'radar', 'level']"
   ]
  },
  {
   "cell_type": "markdown",
   "id": "dcef0ef6-679a-4287-84e6-0cb6a04cff20",
   "metadata": {},
   "source": [
    "#### Answer:\n",
    "\n",
    "A Python program that uses lambda and filter functions to find palindromes in a given list of strings:\n",
    "\n",
    "Example:"
   ]
  },
  {
   "cell_type": "code",
   "execution_count": 16,
   "id": "98818601-c952-4db3-b5ba-aea222cd0b38",
   "metadata": {},
   "outputs": [],
   "source": [
    "str_lst = ['python', 'php', 'aba', 'radar', 'level']"
   ]
  },
  {
   "cell_type": "code",
   "execution_count": 17,
   "id": "047bb71b-350b-4d9e-8017-8552d17b33f0",
   "metadata": {},
   "outputs": [],
   "source": [
    "# Use lambda and filter to find palindromes in the list\n",
    "palindrms = list(filter(lambda x: x == x[::-1], str_lst))"
   ]
  },
  {
   "cell_type": "code",
   "execution_count": 18,
   "id": "5f69b2fa-fcfd-43f0-bf73-867ea53ae9c1",
   "metadata": {},
   "outputs": [
    {
     "name": "stdout",
     "output_type": "stream",
     "text": [
      "['php', 'aba', 'radar', 'level']\n"
     ]
    }
   ],
   "source": [
    "# Print the palindromes\n",
    "print(palindrms)"
   ]
  },
  {
   "cell_type": "code",
   "execution_count": null,
   "id": "a84b0715-9c27-4ca0-bfdf-b906f939330f",
   "metadata": {},
   "outputs": [],
   "source": []
  },
  {
   "cell_type": "code",
   "execution_count": null,
   "id": "5866c880-a470-4370-b098-5cd1f43f2187",
   "metadata": {},
   "outputs": [],
   "source": []
  },
  {
   "cell_type": "code",
   "execution_count": null,
   "id": "87a40156-3a1d-42ed-b0f8-6bec37f226ae",
   "metadata": {},
   "outputs": [],
   "source": []
  },
  {
   "cell_type": "code",
   "execution_count": null,
   "id": "5d3798d2-34da-45af-b250-1d66a412f0a6",
   "metadata": {},
   "outputs": [],
   "source": []
  }
 ],
 "metadata": {
  "kernelspec": {
   "display_name": "Python 3 (ipykernel)",
   "language": "python",
   "name": "python3"
  },
  "language_info": {
   "codemirror_mode": {
    "name": "ipython",
    "version": 3
   },
   "file_extension": ".py",
   "mimetype": "text/x-python",
   "name": "python",
   "nbconvert_exporter": "python",
   "pygments_lexer": "ipython3",
   "version": "3.10.8"
  }
 },
 "nbformat": 4,
 "nbformat_minor": 5
}
