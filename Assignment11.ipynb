{
 "cells": [
  {
   "cell_type": "markdown",
   "id": "516e7924-2980-40f6-8304-013d82c39a16",
   "metadata": {},
   "source": [
    "### Q1. What is a database? Differentiate between SQL and NoSQL databases.\n",
    "\n",
    "#### Answer:"
   ]
  },
  {
   "cell_type": "markdown",
   "id": "6daedd16-47cf-40d7-9aee-059457cee0c0",
   "metadata": {},
   "source": [
    "- A database is a structured collection of data that is organized, stored, and managed in a way that allows for efficient retrieval and manipulation of information. It provides a systematic approach to manage data and enables users and applications to access and interact with the data stored within it.\n",
    "\n",
    "#### Differentiation between SQL and NoSQL databases:\n",
    "\n",
    "- SQL (Structured Query Language) databases and NoSQL (Not Only SQL) databases are two different types of database management systems with distinct characteristics:\n",
    "\n",
    "#### 1. SQL Databases:\n",
    "\n",
    "- SQL databases are relational databases that store data in a tabular format with rows and columns.\n",
    "\n",
    "- They have a predefined schema that specifies the structure of the data and enforces data integrity constraints through keys, unique constraints, and foreign key relationships.\n",
    "\n",
    "- SQL databases use SQL as the query language to interact with the data and perform operations like querying, inserting, updating, and deleting data.\n",
    "\n",
    "- Examples of SQL databases include MySQL, PostgreSQL, Oracle, SQL Server, and SQLite.\n",
    "\n",
    "\n",
    "#### 2. NoSQL Databases:\n",
    "\n",
    "- NoSQL databases are non-relational databases that store data in various formats like key-value pairs, documents, graphs, or column-family stores.\n",
    "\n",
    "- They are schema-less or have a flexible schema, allowing data to be stored without a predefined structure.\n",
    "\n",
    "- NoSQL databases use various query languages depending on the type of database.\n",
    "\n",
    "- NoSQL databases are more scalable and suitable for handling large volumes of unstructured or semi-structured data.\n",
    "\n",
    "- Examples of NoSQL databases include MongoDB, Cassandra, Couchbase, Redis, and Neo4j.\n"
   ]
  },
  {
   "cell_type": "markdown",
   "id": "eb4389f5-eac5-4661-9a7d-b50284cb70f3",
   "metadata": {},
   "source": [
    "### Q2. What is DDL? Explain why CREATE, DROP, ALTER, and TRUNCATE are used with an example.\n",
    "\n",
    "#### Answer:"
   ]
  },
  {
   "cell_type": "markdown",
   "id": "89d3b4e2-cb0f-4442-bcdc-c3d378761e4b",
   "metadata": {},
   "source": [
    "- DDL (Data Definition Language) is a subset of SQL used to define and manage the structure of a database. It includes statements that create, modify, and delete database objects like tables, indexes, views, and constraints.\n",
    "\n",
    "\n",
    "- CREATE: \n",
    "    - The CREATE statement is used to create new database objects, such as tables, views, or indexes.\n",
    "    - Example: Creating a table named \"employees\" with columns for ID, name, and age.\n",
    "    CREATE TABLE employees (\n",
    "    id INT PRIMARY KEY,\n",
    "    name VARCHAR(50),\n",
    "    age INT\n",
    "    );\n",
    "\n",
    "\n",
    "- DROP: \n",
    "    - The DROP statement is used to remove an existing database object from the database.\n",
    "    - Example: Dropping the \"employees\" table from the database.\n",
    "    DROP TABLE employees;\n",
    "    \n",
    "    \n",
    "- ALTER: \n",
    "    - The ALTER statement is used to modify an existing database object, such as adding, modifying, or dropping columns in a table.\n",
    "    - Example: Adding a new column \"salary\" to the \"employees\" table.\n",
    "    ALTER TABLE employees ADD salary DECIMAL(10, 2);\n",
    "    \n",
    "    \n",
    "- TRUNCATE: \n",
    "    - The TRUNCATE statement is used to delete all the data from a table, but the table structure remains intact.\n",
    "    - Example: Truncating the \"employees\" table, deleting all its data.\n",
    "    TRUNCATE TABLE employees;"
   ]
  },
  {
   "cell_type": "markdown",
   "id": "070c8216-b404-4c04-a22f-f8cdde99a6ee",
   "metadata": {},
   "source": [
    "### Q3. What is DML? Explain INSERT, UPDATE, and DELETE with an example.\n",
    "\n",
    "#### Answer:"
   ]
  },
  {
   "cell_type": "markdown",
   "id": "8864861b-8903-4050-941d-63c8bd64351d",
   "metadata": {},
   "source": [
    "DML (Data Manipulation Language) is a subset of SQL used to manage data within a database. It includes statements for inserting, updating, and deleting data from tables.\n",
    "\n",
    "- INSERT: \n",
    "    - The INSERT statement is used to add new rows of data into a table.\n",
    "    - Example: Inserting a new employee record into the \"employees\" table.\n",
    "    INSERT INTO employees (id, name, age, salary) VALUES (1, 'John Doe', 30, 50000);\n",
    "    \n",
    "    \n",
    "- UPDATE: \n",
    "    - The UPDATE statement is used to modify existing data in a table.\n",
    "    - Example: Updating the salary of the employee with ID 1.\n",
    "    UPDATE employees SET salary = 55000 WHERE id = 1;\n",
    "    \n",
    "    \n",
    "- DELETE: \n",
    "    - The DELETE statement is used to remove specific rows of data from a table.\n",
    "    - Example: Deleting the employee with ID 1 from the \"employees\" table.\n",
    "    DELETE FROM employees WHERE id = 1;"
   ]
  },
  {
   "cell_type": "markdown",
   "id": "788f3f31-561a-44d5-8050-b6c51cd224e7",
   "metadata": {},
   "source": [
    "### Q4. What is DQL? Explain SELECT with an example.\n",
    "\n",
    "#### Answer:"
   ]
  },
  {
   "cell_type": "markdown",
   "id": "7749b610-1143-4e55-a2c2-db0f803b9d39",
   "metadata": {},
   "source": [
    "- DQL (Data Query Language) is a subset of SQL used to retrieve and manipulate data from a database. It mainly includes the SELECT statement, which is used to query data from one or more tables.\n",
    "\n",
    "- SELECT: \n",
    "    - The SELECT statement is used to retrieve data from a table or multiple tables based on specified conditions.\n",
    "    \n",
    "    - Example 1: Selecting all columns from the \"employees\" table.\n",
    "    \n",
    "    SELECT * FROM employees;\n",
    "    \n",
    "    - Example 2: Selecting specific columns (id and name) from the \"employees\" table with a condition.\n",
    "    \n",
    "    SELECT id, name FROM employees WHERE age > 25;"
   ]
  },
  {
   "cell_type": "markdown",
   "id": "4a9dce4a-18b2-4354-8112-59cda6f826d4",
   "metadata": {},
   "source": [
    "### Q5. Explain Primary Key and Foreign Key.\n",
    "\n",
    "#### Answer:"
   ]
  },
  {
   "cell_type": "markdown",
   "id": "ddd823f0-a6c8-42a2-b0ab-014f96194a0c",
   "metadata": {},
   "source": [
    "1. Primary Key: \n",
    "\n",
    "- A primary key is a unique identifier for a row (record) in a database table. \n",
    "\n",
    "- It ensures that each record in the table is uniquely identifiable and serves as the reference for relationships between tables. \n",
    "\n",
    "- A primary key cannot have duplicate values and must have a unique constraint.\n",
    "\n",
    "- Example: In the \"employees\" table, the \"id\" column can be defined as the primary key, ensuring that each employee has a unique ID.\n",
    "\n",
    "CREATE TABLE employees (\n",
    "    id INT PRIMARY KEY,\n",
    "    name VARCHAR(50),\n",
    "    age INT\n",
    ");\n",
    "\n",
    "2. Foreign Key: \n",
    "\n",
    "- A foreign key is a column or a set of columns in a table that refers to the primary key of another table. \n",
    "\n",
    "- It establishes a relationship between two tables, allowing data in one table to reference data in another table. \n",
    "\n",
    "- The foreign key ensures referential integrity, meaning that the values in the foreign key column must match the values of the primary key in the referenced table or be NULL.\n",
    "\n",
    "- Example: In the \"orders\" table, the \"customer_id\" column can be defined as a foreign key, referencing the \"id\" column in the \"customers\" table.\n",
    "\n",
    "CREATE TABLE orders (\n",
    "    order_id INT PRIMARY KEY,\n",
    "    order_date DATE,\n",
    "    customer_id INT,\n",
    "    FOREIGN KEY (customer_id) REFERENCES customers(id)\n",
    ");\n"
   ]
  },
  {
   "cell_type": "markdown",
   "id": "2e3a7de9-3fee-4794-8274-88abdbe8bc14",
   "metadata": {},
   "source": [
    "### Q6. Write a python code to connect MySQL to python. Explain the cursor() and execute() method.\n",
    "\n",
    "#### Answer:"
   ]
  },
  {
   "cell_type": "markdown",
   "id": "de8484f0-7740-4ac0-a8a4-ff060c8c0fcf",
   "metadata": {},
   "source": [
    "- To connect Python to MySQL, you need to use the mysql-connector library. First, install the library using pip if you haven't already:\n",
    "\n",
    "    - pip install mysql-connector-python\n",
    "    \n",
    "- Now, you can connect to MySQL and perform database operations using the following Python code:\n",
    "\n",
    "    - import mysql.connector\n",
    "\n",
    "        ##### Establish the connection\n",
    "        connection = mysql.connector.connect(\n",
    "            host=\"localhost\",\n",
    "            user=\"your_username\",\n",
    "            password=\"your_password\",\n",
    "            database=\"your_database\"\n",
    "        )\n",
    "\n",
    "        ##### Create a cursor object to interact with the database\n",
    "        cursor = connection.cursor()\n",
    "\n",
    "        ##### Execute SQL queries using the cursor's execute() method\n",
    "        sql_query = \"SELECT * FROM employees\"\n",
    "        cursor.execute(sql_query)\n",
    "\n",
    "        ##### Fetch and print the result\n",
    "        result = cursor.fetchall()\n",
    "        for row in result:\n",
    "            print(row)\n",
    "\n",
    "        ##### Close the cursor and connection\n",
    "        cursor.close()\n",
    "        connection.close()\n"
   ]
  },
  {
   "cell_type": "markdown",
   "id": "3d43eae4-a41d-4c97-ada7-b34fbf246426",
   "metadata": {},
   "source": [
    "#### Explanation:\n",
    "\n",
    "- Import the mysql.connector library to work with MySQL databases.\n",
    "\n",
    "- Establish the connection to the MySQL server using mysql.connector.connect(). Replace \"localhost\", \"your_username\", \"your_password\", and \"your_database\" with your actual database credentials.\n",
    "\n",
    "- Create a cursor object using connection.cursor(). The cursor allows you to execute SQL queries and fetch the results.\n",
    "\n",
    "- Execute SQL queries using the cursor's execute() method. In this example, we execute a simple SELECT query to fetch all records from the \"employees\" table.\n",
    "\n",
    "- Use the fetchall() method to retrieve the result set obtained from the SELECT query.\n",
    "\n",
    "- Iterate through the result set and print each row.\n",
    "\n",
    "- Close the cursor and the database connection using cursor.close() and connection.close()."
   ]
  },
  {
   "cell_type": "markdown",
   "id": "8af239d6-0313-4cbd-8208-0a6ff8ba82e9",
   "metadata": {},
   "source": [
    "#### Q7. Give the order of execution of SQL clauses in an SQL query.\n",
    "\n",
    "#### Answer: "
   ]
  },
  {
   "cell_type": "markdown",
   "id": "9c283ad1-1942-4671-bce5-2ef2c5ce8bf3",
   "metadata": {},
   "source": [
    "The order of execution of SQL clauses in an SQL query is as follows:\n",
    "\n",
    "- SELECT: \n",
    "\n",
    "        The SELECT clause is used to specify the columns that will be retrieved from the table(s).\n",
    "        \n",
    "- FROM: \n",
    "\n",
    "        The FROM clause is used to specify the table(s) from which the data will be retrieved.\n",
    "        \n",
    "- WHERE: \n",
    "\n",
    "        The WHERE clause is used to filter the rows based on specified conditions.\n",
    "        \n",
    "- GROUP BY: \n",
    "\n",
    "        The GROUP BY clause is used to group rows based on specific columns.\n",
    "        \n",
    "- HAVING: \n",
    "\n",
    "        The HAVING clause is used to filter groups based on specified conditions (used with GROUP BY).\n",
    "        \n",
    "- ORDER BY: \n",
    "\n",
    "        The ORDER BY clause is used to sort the result set based on specified columns.\n",
    "        \n",
    "- LIMIT/OFFSET: \n",
    "\n",
    "        The LIMIT and OFFSET clauses are used to limit the number of rows returned and control pagination."
   ]
  },
  {
   "cell_type": "code",
   "execution_count": null,
   "id": "c09f7e6a-2952-468c-a558-10ef231a8a50",
   "metadata": {},
   "outputs": [],
   "source": []
  }
 ],
 "metadata": {
  "kernelspec": {
   "display_name": "Python 3 (ipykernel)",
   "language": "python",
   "name": "python3"
  },
  "language_info": {
   "codemirror_mode": {
    "name": "ipython",
    "version": 3
   },
   "file_extension": ".py",
   "mimetype": "text/x-python",
   "name": "python",
   "nbconvert_exporter": "python",
   "pygments_lexer": "ipython3",
   "version": "3.10.8"
  }
 },
 "nbformat": 4,
 "nbformat_minor": 5
}
