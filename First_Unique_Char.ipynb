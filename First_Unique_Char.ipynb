{
 "cells": [
  {
   "cell_type": "code",
   "execution_count": 9,
   "id": "2f9d4942-ee91-4659-9113-efba80886e5b",
   "metadata": {},
   "outputs": [],
   "source": [
    "def RepeatingFunc(myStr):\n",
    "\tchar_order = []\n",
    "\tcounts = {}\n",
    "\n",
    "\tfor c in myStr:\n",
    "\t\tif c in counts:\n",
    "\t\t\tcounts[c] += 1\n",
    "\t\telse:\n",
    "\t\t\tcounts[c] = 1\n",
    "\t\t\tchar_order.append(c)\n",
    "\tfor c in char_order:\n",
    "\t\tif counts[c] == 1:\n",
    "\t\t\treturn c\n",
    "\treturn -1"
   ]
  },
  {
   "cell_type": "code",
   "execution_count": 10,
   "id": "e4b048dc-2564-4808-93c1-3c39dda23d66",
   "metadata": {},
   "outputs": [
    {
     "name": "stdout",
     "output_type": "stream",
     "text": [
      "First Non-Repeating Character =  l\n"
     ]
    }
   ],
   "source": [
    "print(\"First Non-Repeating Character = \",RepeatingFunc('leetcode'))"
   ]
  },
  {
   "cell_type": "code",
   "execution_count": 11,
   "id": "2069d212-ecb6-4d20-954f-f49606b25c24",
   "metadata": {},
   "outputs": [
    {
     "name": "stdout",
     "output_type": "stream",
     "text": [
      "First Non-Repeating Character =  v\n"
     ]
    }
   ],
   "source": [
    "print(\"First Non-Repeating Character = \",RepeatingFunc('loveleetcode'))"
   ]
  },
  {
   "cell_type": "code",
   "execution_count": 12,
   "id": "e4101034-eab3-4687-9b55-d2b1aa6ac785",
   "metadata": {},
   "outputs": [
    {
     "name": "stdout",
     "output_type": "stream",
     "text": [
      "First Non-Repeating Character =  -1\n"
     ]
    }
   ],
   "source": [
    "print(\"First Non-Repeating Character = \",RepeatingFunc('aabb'))"
   ]
  },
  {
   "cell_type": "code",
   "execution_count": null,
   "id": "8043978a-525e-4a30-a008-c2e0607f4eaa",
   "metadata": {},
   "outputs": [],
   "source": []
  },
  {
   "cell_type": "code",
   "execution_count": null,
   "id": "a1f57483-f0cf-4c7a-9057-f048ebc7560a",
   "metadata": {},
   "outputs": [],
   "source": []
  }
 ],
 "metadata": {
  "kernelspec": {
   "display_name": "Python 3 (ipykernel)",
   "language": "python",
   "name": "python3"
  },
  "language_info": {
   "codemirror_mode": {
    "name": "ipython",
    "version": 3
   },
   "file_extension": ".py",
   "mimetype": "text/x-python",
   "name": "python",
   "nbconvert_exporter": "python",
   "pygments_lexer": "ipython3",
   "version": "3.10.8"
  }
 },
 "nbformat": 4,
 "nbformat_minor": 5
}
