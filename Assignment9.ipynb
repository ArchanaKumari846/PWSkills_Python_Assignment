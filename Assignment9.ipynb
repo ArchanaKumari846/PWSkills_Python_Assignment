{
 "cells": [
  {
   "cell_type": "markdown",
   "id": "516e7924-2980-40f6-8304-013d82c39a16",
   "metadata": {},
   "source": [
    "### Q1. What is multithreading in python? Why is it used? Name the module used to handle threads in python.\n",
    "\n",
    "#### Answer:"
   ]
  },
  {
   "cell_type": "markdown",
   "id": "6daedd16-47cf-40d7-9aee-059457cee0c0",
   "metadata": {},
   "source": [
    "- Multithreading is a programming technique that allows multiple threads (smaller units of a process) to execute concurrently within the same program. Each thread represents an independent flow of execution, and they share the same resources like memory space, file descriptors, etc., provided by the parent process. Python supports multithreading to take advantage of multi-core processors and improve the overall performance of CPU-bound tasks.\n",
    "\n",
    "- Multithreading is used to perform concurrent tasks that can be executed independently to speed up the program's execution. By utilizing multiple threads, the program can take advantage of the available CPU cores and execute different tasks simultaneously, making it more efficient in handling tasks that can be done concurrently.\n",
    "\n",
    "- The module used to handle threads in Python is called the threading module. It provides a high-level interface for creating and managing threads in Python programs. With the threading module, you can create Thread objects that represent individual threads, start them, join them, and synchronize their operations to avoid race conditions and other threading-related issues."
   ]
  },
  {
   "cell_type": "markdown",
   "id": "eb4389f5-eac5-4661-9a7d-b50284cb70f3",
   "metadata": {},
   "source": [
    "### Q2. Why threading module used? Write the use of the following functions.\n",
    "i) activeCount\n",
    "\n",
    "ii) currentThread\n",
    "\n",
    "iii) enumerate\n",
    "\n",
    "#### Answer:"
   ]
  },
  {
   "cell_type": "markdown",
   "id": "89d3b4e2-cb0f-4442-bcdc-c3d378761e4b",
   "metadata": {},
   "source": [
    "The threading module in Python is used to handle threads and facilitate multithreading in Python programs. It provides a high-level interface to create, manage, and control threads. Here are some of the key functions provided by the threading module and their uses:"
   ]
  },
  {
   "cell_type": "markdown",
   "id": "92ac4298-6adf-4035-904a-4f9fb310f528",
   "metadata": {},
   "source": [
    "#### i) threading.activeCount(): \n",
    "\n",
    "- This function returns the number of currently active threads in the program. It is useful for monitoring the number of active threads at any given moment.\n",
    "\n",
    "#### Example:"
   ]
  },
  {
   "cell_type": "code",
   "execution_count": 1,
   "id": "cdf154a4-d13a-4071-a723-c6642d435305",
   "metadata": {},
   "outputs": [
    {
     "name": "stdout",
     "output_type": "stream",
     "text": [
      "Thread is running\n",
      "Active Threads: 8\n"
     ]
    },
    {
     "name": "stderr",
     "output_type": "stream",
     "text": [
      "/tmp/ipykernel_116/2130258092.py:9: DeprecationWarning: activeCount() is deprecated, use active_count() instead\n",
      "  print(\"Active Threads:\", threading.activeCount())\n"
     ]
    }
   ],
   "source": [
    "import threading\n",
    "\n",
    "def my_function():\n",
    "    print(\"Thread is running\")\n",
    "\n",
    "thread1 = threading.Thread(target=my_function)\n",
    "thread1.start()\n",
    "\n",
    "print(\"Active Threads:\", threading.activeCount())"
   ]
  },
  {
   "cell_type": "markdown",
   "id": "8bf689f3-ba05-4e43-a8a5-0a777b1f2a36",
   "metadata": {},
   "source": [
    "#### ii) threading.currentThread(): \n",
    "    \n",
    "- This function returns the current Thread object, representing the thread from which this function is called. It allows you to access and manipulate the properties of the current thread.\n",
    "\n",
    "#### Example:"
   ]
  },
  {
   "cell_type": "code",
   "execution_count": 2,
   "id": "c0b26242-c801-448b-9f34-de565d76be45",
   "metadata": {},
   "outputs": [
    {
     "name": "stdout",
     "output_type": "stream",
     "text": [
      "Current Thread: Thread-6 (my_function)\n"
     ]
    },
    {
     "name": "stderr",
     "output_type": "stream",
     "text": [
      "/tmp/ipykernel_116/2024836370.py:4: DeprecationWarning: currentThread() is deprecated, use current_thread() instead\n",
      "  print(\"Current Thread:\", threading.currentThread().getName())\n",
      "/tmp/ipykernel_116/2024836370.py:4: DeprecationWarning: getName() is deprecated, get the name attribute instead\n",
      "  print(\"Current Thread:\", threading.currentThread().getName())\n"
     ]
    }
   ],
   "source": [
    "import threading\n",
    "\n",
    "def my_function():\n",
    "    print(\"Current Thread:\", threading.currentThread().getName())\n",
    "\n",
    "thread1 = threading.Thread(target=my_function)\n",
    "thread1.start()"
   ]
  },
  {
   "cell_type": "markdown",
   "id": "4106c4bf-32e8-4992-a601-f68d996373b1",
   "metadata": {},
   "source": [
    "#### iii) threading.enumerate(): \n",
    "    \n",
    "- This function returns a list of all currently active Thread objects. It provides a way to get a list of all threads that are currently running in the program.\n",
    "\n",
    "#### Example:"
   ]
  },
  {
   "cell_type": "code",
   "execution_count": 3,
   "id": "717123f1-92c9-46d7-8f90-47edd1623b1d",
   "metadata": {},
   "outputs": [
    {
     "name": "stdout",
     "output_type": "stream",
     "text": [
      "Thread is running\n",
      "Active Threads: [<_MainThread(MainThread, started 140188745307968)>, <Thread(IOPub, started daemon 140188604954176)>, <Heartbeat(Heartbeat, started daemon 140188596561472)>, <Thread(Thread-3 (_watch_pipe_fd), started daemon 140188571383360)>, <Thread(Thread-4 (_watch_pipe_fd), started daemon 140188562990656)>, <ControlThread(Control, started daemon 140188554597952)>, <HistorySavingThread(IPythonHistorySavingThread, started 140188202300992)>, <ParentPollerUnix(Thread-2, started daemon 140188193908288)>]\n"
     ]
    }
   ],
   "source": [
    "import threading\n",
    "\n",
    "def my_function():\n",
    "    print(\"Thread is running\")\n",
    "\n",
    "thread1 = threading.Thread(target=my_function)\n",
    "thread1.start()\n",
    "\n",
    "active_threads = threading.enumerate()\n",
    "print(\"Active Threads:\", active_threads)"
   ]
  },
  {
   "cell_type": "markdown",
   "id": "070c8216-b404-4c04-a22f-f8cdde99a6ee",
   "metadata": {},
   "source": [
    "### Q3. Explain the following functions\n",
    "\n",
    "i) run\n",
    "\n",
    "ii) start\n",
    "\n",
    "iii) join\n",
    "\n",
    "iv) isAlive\n",
    "\n",
    "#### Answer:"
   ]
  },
  {
   "cell_type": "markdown",
   "id": "d324da16-cdaf-4031-8ef2-24a1e1806d61",
   "metadata": {},
   "source": [
    "#### i) run() method:\n",
    "    \n",
    "- The run() method is used to define the entry point for the thread's execution. It is called when the start() method is invoked on a Thread object. When creating a custom thread, you can subclass the Thread class and override the run() method to specify the behavior of the thread.\n",
    "\n",
    "#### Example:"
   ]
  },
  {
   "cell_type": "code",
   "execution_count": 4,
   "id": "303677f8-c3bc-401f-91ab-e26f84f1e508",
   "metadata": {},
   "outputs": [
    {
     "name": "stdout",
     "output_type": "stream",
     "text": [
      "Thread is running\n"
     ]
    }
   ],
   "source": [
    "import threading\n",
    "\n",
    "class MyThread(threading.Thread):\n",
    "    def run(self):\n",
    "        print(\"Thread is running\")\n",
    "\n",
    "thread1 = MyThread()\n",
    "thread1.start()  # This will call the run() method"
   ]
  },
  {
   "cell_type": "markdown",
   "id": "fe7bc7d0-8f37-4078-b524-a4761b2e0c13",
   "metadata": {},
   "source": [
    "#### ii) start() method:\n",
    "    \n",
    "- The start() method is used to start the execution of a thread. It creates a new thread of execution for the Thread object and calls its run() method. The start() method does not block the main thread; it returns immediately after the new thread is spawned, allowing both the main thread and the new thread to execute concurrently.\n",
    "\n",
    "#### Example:"
   ]
  },
  {
   "cell_type": "code",
   "execution_count": 5,
   "id": "d60531ad-e54a-4d74-a002-bcddb4badd43",
   "metadata": {},
   "outputs": [
    {
     "name": "stdout",
     "output_type": "stream",
     "text": [
      "Thread is running\n"
     ]
    }
   ],
   "source": [
    "import threading\n",
    "\n",
    "def my_function():\n",
    "    print(\"Thread is running\")\n",
    "\n",
    "thread1 = threading.Thread(target=my_function)\n",
    "thread1.start()  # This will start the execution of the thread"
   ]
  },
  {
   "cell_type": "markdown",
   "id": "0308c43c-0037-4f8d-ace5-0b02e9045814",
   "metadata": {},
   "source": [
    "#### iii) join() method:\n",
    "\n",
    "- The join() method is used to block the calling thread until the thread it's called on completes its execution. This means that the calling thread will wait for the specified thread to finish before continuing with its own execution. This is useful when you want to ensure that a particular thread has completed its task before moving on.\n",
    "\n",
    "#### Example:"
   ]
  },
  {
   "cell_type": "code",
   "execution_count": 6,
   "id": "6c2d0406-df6c-46f9-9a7b-650767db7142",
   "metadata": {},
   "outputs": [
    {
     "name": "stdout",
     "output_type": "stream",
     "text": [
      "Thread is running\n",
      "Thread1 has finished its task.\n"
     ]
    }
   ],
   "source": [
    "import threading\n",
    "\n",
    "def my_function():\n",
    "    print(\"Thread is running\")\n",
    "\n",
    "thread1 = threading.Thread(target=my_function)\n",
    "thread1.start()\n",
    "\n",
    "# The main thread will wait until thread1 finishes before proceeding\n",
    "thread1.join()\n",
    "print(\"Thread1 has finished its task.\")"
   ]
  },
  {
   "cell_type": "markdown",
   "id": "ecaf4a15-5b83-4863-a850-4aa8c4153069",
   "metadata": {},
   "source": [
    "#### iv) isAlive() method:\n",
    "    \n",
    "- The isAlive() method is used to check if a thread is currently running. It returns True if the thread is active and running, and False otherwise. This method can be used to query the status of a thread and take appropriate actions based on whether the thread is still running or has completed its task.\n",
    "\n",
    "#### Example:"
   ]
  },
  {
   "cell_type": "code",
   "execution_count": 7,
   "id": "447cb0a4-9130-4dec-b80b-db3485ed5cbf",
   "metadata": {},
   "outputs": [
    {
     "ename": "AttributeError",
     "evalue": "'Thread' object has no attribute 'isAlive'",
     "output_type": "error",
     "traceback": [
      "\u001b[0;31m---------------------------------------------------------------------------\u001b[0m",
      "\u001b[0;31mAttributeError\u001b[0m                            Traceback (most recent call last)",
      "Cell \u001b[0;32mIn[7], line 12\u001b[0m\n\u001b[1;32m      9\u001b[0m thread1\u001b[38;5;241m.\u001b[39mstart()\n\u001b[1;32m     11\u001b[0m \u001b[38;5;66;03m# Checking if the thread is alive after starting it\u001b[39;00m\n\u001b[0;32m---> 12\u001b[0m \u001b[38;5;28;01mif\u001b[39;00m \u001b[43mthread1\u001b[49m\u001b[38;5;241;43m.\u001b[39;49m\u001b[43misAlive\u001b[49m():\n\u001b[1;32m     13\u001b[0m     \u001b[38;5;28mprint\u001b[39m(\u001b[38;5;124m\"\u001b[39m\u001b[38;5;124mThread1 is still running.\u001b[39m\u001b[38;5;124m\"\u001b[39m)\n\u001b[1;32m     14\u001b[0m \u001b[38;5;28;01melse\u001b[39;00m:\n",
      "\u001b[0;31mAttributeError\u001b[0m: 'Thread' object has no attribute 'isAlive'"
     ]
    },
    {
     "name": "stdout",
     "output_type": "stream",
     "text": [
      "Thread is running\n"
     ]
    }
   ],
   "source": [
    "import threading\n",
    "import time\n",
    "\n",
    "def my_function():\n",
    "    time.sleep(2)\n",
    "    print(\"Thread is running\")\n",
    "\n",
    "thread1 = threading.Thread(target=my_function)\n",
    "thread1.start()\n",
    "\n",
    "# Checking if the thread is alive after starting it\n",
    "if thread1.isAlive():\n",
    "    print(\"Thread1 is still running.\")\n",
    "else:\n",
    "    print(\"Thread1 has finished its task.\")"
   ]
  },
  {
   "cell_type": "markdown",
   "id": "788f3f31-561a-44d5-8050-b6c51cd224e7",
   "metadata": {},
   "source": [
    "### Q4. Write a python program to create two threads. Thread one must print the list of squares and thread two must print the list of cubes.\n",
    "\n",
    "#### Answer:"
   ]
  },
  {
   "cell_type": "markdown",
   "id": "7749b610-1143-4e55-a2c2-db0f803b9d39",
   "metadata": {},
   "source": [
    "In below program, we define two functions, print_squares() and print_cubes(), to print the squares and cubes of numbers, respectively. We create two threads, thread1 and thread2, and assign each function to be executed by the corresponding thread. Then, we start both threads using the start() method and wait for them to finish using the join() method. Finally, we print a message indicating that both threads have finished their tasks. "
   ]
  },
  {
   "cell_type": "code",
   "execution_count": 8,
   "id": "9ea1cd1a-f9fd-4b8f-acde-ef58d16c3fc6",
   "metadata": {},
   "outputs": [
    {
     "name": "stdout",
     "output_type": "stream",
     "text": [
      "Square of 1: 1\n",
      "Square of 2: 4\n",
      "Square of 3: 9\n",
      "Square of 4: 16\n",
      "Square of 5: 25\n",
      "Cube of 1: 1\n",
      "Cube of 2: 8\n",
      "Cube of 3: 27\n",
      "Cube of 4: 64\n",
      "Cube of 5: 125\n",
      "Both threads have finished.\n"
     ]
    }
   ],
   "source": [
    "import threading\n",
    "\n",
    "def print_squares(numbers):\n",
    "    for num in numbers:\n",
    "        print(f\"Square of {num}: {num**2}\")\n",
    "\n",
    "def print_cubes(numbers):\n",
    "    for num in numbers:\n",
    "        print(f\"Cube of {num}: {num**3}\")\n",
    "\n",
    "if __name__ == \"__main__\":\n",
    "    numbers = [1, 2, 3, 4, 5]\n",
    "\n",
    "    # Create threads\n",
    "    thread1 = threading.Thread(target=print_squares, args=(numbers,))\n",
    "    thread2 = threading.Thread(target=print_cubes, args=(numbers,))\n",
    "\n",
    "    # Start threads\n",
    "    thread1.start()\n",
    "    thread2.start()\n",
    "\n",
    "    # Wait for both threads to finish\n",
    "    thread1.join()\n",
    "    thread2.join()\n",
    "\n",
    "    print(\"Both threads have finished.\")"
   ]
  },
  {
   "cell_type": "markdown",
   "id": "4a9dce4a-18b2-4354-8112-59cda6f826d4",
   "metadata": {},
   "source": [
    "### Q5. State advantages and disadvantages of multithreading\n",
    "\n",
    "#### Answer:"
   ]
  },
  {
   "cell_type": "markdown",
   "id": "ddd823f0-a6c8-42a2-b0ab-014f96194a0c",
   "metadata": {},
   "source": [
    "Multithreading, like any programming technique, has its own set of advantages and disadvantages. \n",
    "\n",
    "#### Advantages of Multithreading:\n",
    "\n",
    "\n",
    "- Improved Performance: \n",
    "    - Multithreading allows concurrent execution of tasks, taking advantage of multiple CPU cores. This can lead to significant performance gains, especially for CPU-bound tasks, as they can be executed simultaneously.\n",
    "\n",
    "\n",
    "- Responsiveness: \n",
    "    - Multithreading can enhance the responsiveness of a program, especially in user interfaces and server applications. It allows background tasks to run independently of the main thread, ensuring that the application remains responsive to user interactions.\n",
    "    \n",
    "\n",
    "- Resource Sharing: \n",
    "    - Threads share the same memory space, which enables efficient communication and data sharing between threads within the same process. This can reduce the overhead of inter-process communication.\n",
    "    \n",
    "\n",
    "- Simplified Program Structure: \n",
    "    - In some cases, multithreading can simplify the program structure. For example, in applications that handle multiple clients simultaneously, using threads for each client can simplify the code compared to using separate processes for each client.\n",
    "\n",
    "\n",
    "#### Disadvantages of Multithreading:\n",
    "\n",
    "\n",
    "- Complexity: \n",
    "    - Multithreading introduces complexity to the program, making it more challenging to design, implement, and debug. Issues like race conditions, deadlocks, and thread synchronization can arise, leading to subtle and hard-to-detect bugs.\n",
    "    \n",
    "\n",
    "- Debugging Difficulty: \n",
    "    - Identifying and fixing bugs in multithreaded programs can be much more challenging than in single-threaded programs. Reproducing and diagnosing race conditions and deadlocks can be time-consuming and require specialized debugging tools.\n",
    "    \n",
    "\n",
    "- GIL Limitations: \n",
    "    - In Python, the Global Interpreter Lock (GIL) prevents true parallel execution of threads in CPython (the default Python interpreter). This means that in CPU-bound tasks, multithreading might not provide significant performance improvements due to the GIL restricting only one thread executing Python bytecode at a time.\n",
    "    \n",
    "\n",
    "- Resource Intensive: \n",
    "    - Threads consume system resources, including memory and CPU time. Creating and managing a large number of threads can lead to resource contention and overhead, potentially affecting overall performance.\n",
    "    \n",
    "    \n",
    "- Potential Performance Bottlenecks: \n",
    "    - Multithreading can introduce contention for shared resources, leading to performance bottlenecks. For example, if multiple threads frequently access and modify the same data structures, locking and synchronization overhead can reduce the benefits of parallel execution.\n",
    "    \n",
    "\n",
    "- Unpredictable Behavior: \n",
    "    - Multithreading can introduce non-deterministic behavior due to the inherent unpredictability of thread scheduling. This can result in different execution orders, leading to different outcomes each time the program is run."
   ]
  },
  {
   "cell_type": "markdown",
   "id": "2e3a7de9-3fee-4794-8274-88abdbe8bc14",
   "metadata": {},
   "source": [
    "### Q6. Explain deadlocks and race conditions.\n",
    "\n",
    "#### Answer:"
   ]
  },
  {
   "cell_type": "markdown",
   "id": "a7e3f7aa-6966-4beb-9e1e-2b2a3fab33ef",
   "metadata": {},
   "source": [
    "Deadlocks and race conditions are two common concurrency-related issues that can occur in multithreaded or multi-process programs.\n",
    "\n",
    "\n",
    "#### 1) Deadlocks:\n",
    "\n",
    "A deadlock occurs when two or more threads or processes are unable to proceed with their execution because each is waiting for a resource that another thread or process holds. Essentially, they become stuck in a circular waiting state, and no progress can be made. Deadlocks can lead to a system-wide standstill and require intervention to resolve.\n",
    "A deadlock situation generally involves four conditions, known as the \"deadlock conditions\":\n",
    "\n",
    "- i. Mutual Exclusion: \n",
    "\n",
    "At least one resource must be non-shareable, meaning only one thread or process can access it at a time.\n",
    "\n",
    "- ii. Hold and Wait: \n",
    "\n",
    "A thread or process must be holding at least one resource and waiting to acquire additional resources held by other threads or processes.\n",
    "\n",
    "- iii. No Preemption: \n",
    "\n",
    "Resources cannot be forcibly taken away from a thread or process. They can only be released voluntarily.\n",
    "\n",
    "- iv. Circular Wait: \n",
    "\n",
    "A circular chain of threads or processes each waiting for the next thread's or process's held resource.\n",
    "\n",
    "\n",
    "- #### Example of a deadlock:\n",
    "\n",
    "    - Thread 1 holds Resource A and waits for Resource B.\n",
    "\n",
    "    - Thread 2 holds Resource B and waits for Resource A.\n",
    "\n",
    "    - Both threads will wait indefinitely, causing a deadlock.\n",
    "\n",
    "\n",
    "- Deadlocks are challenging to detect and resolve, and careful programming and synchronization techniques are required to avoid them.\n",
    "\n",
    "\n",
    "#### 2) Race Conditions:\n",
    "\n",
    "- A race condition occurs when the behavior of a program depends on the relative timing of events, particularly when multiple threads or processes access shared resources without proper synchronization. It arises when the outcome of the program is dependent on the order of execution of concurrent operations.\n",
    "\n",
    "- In the context of multithreading, race conditions can lead to incorrect and unpredictable results. This typically happens when two or more threads read and write shared data simultaneously, leading to data corruption or inconsistencies.\n",
    "\n",
    "- #### Example of a race condition:\n",
    "\n",
    "    - Two threads increment a shared variable count by one.\n",
    "\n",
    "    - Thread 1 reads count (e.g., count = 5), then Thread 2 reads count (also count = 5).\n",
    "\n",
    "    - Both threads increment their local copy (count + 1) and write the result back (e.g., count = 6), resulting in an incorrect final count (count should have been 7).\n",
    "\n",
    "\n",
    "- To avoid race conditions, developers use synchronization techniques, such as locks, semaphores, or atomic operations, to ensure exclusive access to shared resources during critical sections of code. Proper synchronization ensures that only one thread can access the shared resource at a time, preventing race conditions from occurring.\n",
    "\n",
    "- Both deadlocks and race conditions can be very tricky to detect and resolve, and they can lead to difficult-to-reproduce and debug issues in concurrent programs. Proper understanding of threading models, synchronization, and careful design and testing are essential to avoid these concurrency problems."
   ]
  },
  {
   "cell_type": "code",
   "execution_count": null,
   "id": "c6ae2f45-6b3f-4cac-a830-69394df190d0",
   "metadata": {},
   "outputs": [],
   "source": []
  }
 ],
 "metadata": {
  "kernelspec": {
   "display_name": "Python 3 (ipykernel)",
   "language": "python",
   "name": "python3"
  },
  "language_info": {
   "codemirror_mode": {
    "name": "ipython",
    "version": 3
   },
   "file_extension": ".py",
   "mimetype": "text/x-python",
   "name": "python",
   "nbconvert_exporter": "python",
   "pygments_lexer": "ipython3",
   "version": "3.10.8"
  }
 },
 "nbformat": 4,
 "nbformat_minor": 5
}
