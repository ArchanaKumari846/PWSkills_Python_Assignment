{
 "cells": [
  {
   "cell_type": "markdown",
   "id": "d7dd853f-3891-471b-80f2-a780b523c6f1",
   "metadata": {},
   "source": [
    "Assignment-1"
   ]
  },
  {
   "cell_type": "markdown",
   "id": "1aa4c5e4-307b-4bec-9e84-18be1274c8e8",
   "metadata": {},
   "source": [
    "Q1. Create one variable containing following type of data:\n",
    "\n",
    "(i)\t    string\n",
    "\n",
    "(ii)\tlist\n",
    "\n",
    "(iii)\tfloat\n",
    "\n",
    "(iv)\ttuple\n",
    "\n",
    " "
   ]
  },
  {
   "cell_type": "markdown",
   "id": "0c27d011-7119-436c-8634-c5c841a0b967",
   "metadata": {},
   "source": [
    "Answer: "
   ]
  },
  {
   "cell_type": "code",
   "execution_count": 1,
   "id": "ecff8b3b-46dd-4d0b-8072-2d2f10095f69",
   "metadata": {},
   "outputs": [
    {
     "name": "stdout",
     "output_type": "stream",
     "text": [
      "String Data Type: My first Assignment\n",
      "List Data Type: [1, 2, 5.0, 'python', 'question', (8+5j)]\n",
      "Float Data Type: 9.5\n",
      "Tuple Data Type: ('hello', 5, 8.9)\n"
     ]
    }
   ],
   "source": [
    "#(i) string\n",
    "string= 'My first Assignment'\n",
    "print('String Data Type:', string)\n",
    "\n",
    "#(ii) list\n",
    "list= [1,2,5.0,'python','question',8+5j]\n",
    "print('List Data Type:', list)\n",
    "\n",
    "#(iii) float\n",
    "float= 9.5\n",
    "print('Float Data Type:', float)\n",
    "\n",
    "#iv) tuple\n",
    "tuple= ('hello',5,8.9)\n",
    "print('Tuple Data Type:', tuple)"
   ]
  },
  {
   "cell_type": "markdown",
   "id": "02670bab-e51e-4549-8b92-9a8a7a07ca59",
   "metadata": {},
   "source": [
    "Q2. Given are some following variables containing data:\n",
    "\n",
    "(i) \tvar1 = ‘ ‘\n",
    "\n",
    "(ii)\tvar2 = ‘[ DS , ML , Python]’\n",
    "\n",
    "(iii)\tvar3 = [ ‘DS’ , ’ML’ , ‘Python’ ]\n",
    "\n",
    "(iv)\tvar4 = 1.\n",
    "\n",
    "\n",
    "What will be the data type of the above given variable."
   ]
  },
  {
   "cell_type": "markdown",
   "id": "25617f7d-b7e9-4e37-baeb-42a24617c5c2",
   "metadata": {},
   "source": [
    "Answer:"
   ]
  },
  {
   "cell_type": "code",
   "execution_count": 2,
   "id": "4f385a94-f775-4886-ac0e-6e5cfe11c91a",
   "metadata": {},
   "outputs": [
    {
     "data": {
      "text/plain": [
       "str"
      ]
     },
     "execution_count": 2,
     "metadata": {},
     "output_type": "execute_result"
    }
   ],
   "source": [
    "#(i) var1\n",
    "var1 = ''\n",
    "type(var1)"
   ]
  },
  {
   "cell_type": "code",
   "execution_count": 3,
   "id": "72127539-7cb8-4564-9061-b1001f92a9f5",
   "metadata": {},
   "outputs": [
    {
     "data": {
      "text/plain": [
       "str"
      ]
     },
     "execution_count": 3,
     "metadata": {},
     "output_type": "execute_result"
    }
   ],
   "source": [
    "#(ii) var2 = ‘[ DS , ML , Python]’\n",
    "var2 = '[ DS , ML , Python]'\n",
    "type(var2)"
   ]
  },
  {
   "cell_type": "code",
   "execution_count": 4,
   "id": "0a3db290-2a70-41fa-8437-1a390bd9286c",
   "metadata": {},
   "outputs": [
    {
     "data": {
      "text/plain": [
       "list"
      ]
     },
     "execution_count": 4,
     "metadata": {},
     "output_type": "execute_result"
    }
   ],
   "source": [
    "#(iii) var3 = [ ‘DS’ , ’ML’ , ‘Python’ ]\n",
    "var3 = [ 'DS' , 'ML' , 'Python' ]\n",
    "type(var3)"
   ]
  },
  {
   "cell_type": "code",
   "execution_count": 5,
   "id": "c8b09915-3f85-400d-a526-2a3c761ca3d1",
   "metadata": {},
   "outputs": [
    {
     "data": {
      "text/plain": [
       "int"
      ]
     },
     "execution_count": 5,
     "metadata": {},
     "output_type": "execute_result"
    }
   ],
   "source": [
    "#(iv) var4 = 1\n",
    "var4 = 1\n",
    "type(var4)"
   ]
  },
  {
   "cell_type": "markdown",
   "id": "b1480bab-0e18-455c-9378-37860fc8ba26",
   "metadata": {},
   "source": [
    "Q3. Explain the use of the following operators using an example:\n",
    "\n",
    "(i)\t/\n",
    "\n",
    "(ii)\t% \n",
    "\n",
    "(iii)\t//\n",
    "\n",
    "(iv)\t**\n"
   ]
  },
  {
   "cell_type": "markdown",
   "id": "bacebdd2-27e4-4193-b652-2df41fc4cd74",
   "metadata": {},
   "source": [
    "Answer: "
   ]
  },
  {
   "cell_type": "code",
   "execution_count": 6,
   "id": "cb65434d-4d7f-45e1-8835-740b1082b742",
   "metadata": {},
   "outputs": [
    {
     "name": "stdout",
     "output_type": "stream",
     "text": [
      "a: 2.5\n",
      "b: 1\n",
      "c: 2\n",
      "d: 25\n"
     ]
    }
   ],
   "source": [
    "#(i) operator / is used for division and example is -\n",
    "a= 5/2\n",
    "print('a:', a)\n",
    "\n",
    "#(ii) operator Modulus '% ' is used for remainder and example is -\n",
    "b= 5%2\n",
    "print('b:', b)\n",
    "\n",
    "#(iii) operator Floor division '//'  rounds the result down to the nearest whole number and example is -\n",
    "c= 5//2\n",
    "print('c:', c)\n",
    "\n",
    "#(iv) operator Exponent '**' is used for square root and example is -\n",
    "d=5**2\n",
    "print('d:', d)"
   ]
  },
  {
   "cell_type": "markdown",
   "id": "84a011aa-b440-48e9-8b57-790d954657f9",
   "metadata": {},
   "source": [
    "Q4. Create a list of length 10 of your choice containing multiple types of data. Using for loop print the \n",
    "element and its data type."
   ]
  },
  {
   "cell_type": "markdown",
   "id": "a88f0139-f4fd-4e87-b3b4-d780f1d93128",
   "metadata": {},
   "source": [
    "Answer: "
   ]
  },
  {
   "cell_type": "code",
   "execution_count": 7,
   "id": "a0b7d85e-df76-40e6-a03f-1f05b1e27269",
   "metadata": {},
   "outputs": [
    {
     "name": "stdout",
     "output_type": "stream",
     "text": [
      "Element: 1 and it's data type is:  <class 'int'>\n",
      "Element: 2 and it's data type is:  <class 'int'>\n",
      "Element: 3 and it's data type is:  <class 'int'>\n",
      "Element: 4 and it's data type is:  <class 'int'>\n",
      "Element: 5.0 and it's data type is:  <class 'float'>\n",
      "Element: 6.5 and it's data type is:  <class 'float'>\n",
      "Element: 7.5 and it's data type is:  <class 'float'>\n",
      "Element: Python and it's data type is:  <class 'str'>\n",
      "Element: Programming and it's data type is:  <class 'str'>\n",
      "Element: Language and it's data type is:  <class 'str'>\n"
     ]
    }
   ],
   "source": [
    "a=[1,2,3,4,5.0,6.5,7.5,'Python','Programming','Language']\n",
    "for i in range(len(a)):\n",
    "    print ('Element:',a[i],\"and it's data type is: \", type(a[i]))"
   ]
  },
  {
   "cell_type": "markdown",
   "id": "408e2fb0-cbd0-4515-9714-c23ca8a90190",
   "metadata": {},
   "source": [
    "Q5. Using a while loop, verify if the number A is purely divisible by number B and if so then how many \n",
    "times it can be divisible."
   ]
  },
  {
   "cell_type": "markdown",
   "id": "f5054ffe-eee1-45cb-8951-30809c6f9a3b",
   "metadata": {},
   "source": [
    "Answer: "
   ]
  },
  {
   "cell_type": "code",
   "execution_count": 8,
   "id": "bf63d337-3a74-49d8-8dfa-067181e0f354",
   "metadata": {},
   "outputs": [
    {
     "name": "stdout",
     "output_type": "stream",
     "text": [
      "2\n",
      "4\n",
      "6\n",
      "8\n",
      "10\n",
      "12\n",
      "14\n",
      "16\n",
      "18\n",
      "20\n"
     ]
    }
   ],
   "source": [
    "A = 0\n",
    "B = 2\n",
    "while A < 20:\n",
    "    A += 1\n",
    "    if A % B:\n",
    "        continue\n",
    "    print(A)"
   ]
  },
  {
   "cell_type": "markdown",
   "id": "98a3abd4-9229-4589-b07e-769520d5eba1",
   "metadata": {},
   "source": [
    "Q6. Create a list containing 25 int type data. Using for loop and if-else condition print if the element is \n",
    "divisible by 3 or not."
   ]
  },
  {
   "cell_type": "markdown",
   "id": "50657ae4-ddf4-4711-938c-050434d38032",
   "metadata": {},
   "source": [
    "Answer: "
   ]
  },
  {
   "cell_type": "code",
   "execution_count": 9,
   "id": "870211dc-33c2-4d11-a2da-5bdbea452fb6",
   "metadata": {},
   "outputs": [
    {
     "name": "stdout",
     "output_type": "stream",
     "text": [
      "Element 1 is not divisible by 3\n",
      "Element 2 is not divisible by 3\n",
      "Element 3 is  divisible by 3\n",
      "Element 4 is not divisible by 3\n",
      "Element 5 is not divisible by 3\n",
      "Element 6 is  divisible by 3\n",
      "Element 7 is not divisible by 3\n",
      "Element 8 is not divisible by 3\n",
      "Element 9 is  divisible by 3\n",
      "Element 10 is not divisible by 3\n",
      "Element 11 is not divisible by 3\n",
      "Element 12 is  divisible by 3\n",
      "Element 13 is not divisible by 3\n",
      "Element 14 is not divisible by 3\n",
      "Element 15 is  divisible by 3\n",
      "Element 16 is not divisible by 3\n",
      "Element 17 is not divisible by 3\n",
      "Element 18 is  divisible by 3\n",
      "Element 19 is not divisible by 3\n",
      "Element 20 is not divisible by 3\n",
      "Element 21 is  divisible by 3\n",
      "Element 22 is not divisible by 3\n",
      "Element 23 is not divisible by 3\n",
      "Element 24 is  divisible by 3\n",
      "Element 25 is not divisible by 3\n"
     ]
    }
   ],
   "source": [
    "list = [1,2,3,4,5,6,7,8,9,10,11,12,13,14,15,16,17,18,19,20,21,22,23,24,25]\n",
    "for i in range(len(list)):\n",
    "    if list[i]%3==0:\n",
    "        print('Element', list[i], 'is  divisible by 3')\n",
    "    else :\n",
    "        print('Element', list[i], 'is not divisible by 3')    "
   ]
  },
  {
   "cell_type": "markdown",
   "id": "3760e1bb-57e8-4388-8e96-1fa6f410290b",
   "metadata": {},
   "source": [
    "Q7. What do you understand about mutable and immutable data types? Give examples for both showing \n",
    "this property."
   ]
  },
  {
   "cell_type": "markdown",
   "id": "03115cdf-910c-433a-8a74-157e4e06fc06",
   "metadata": {},
   "source": [
    "Answer: \n",
    "\n",
    "Mutable data types- A mutable object can be changed after it is created. Example: List, Set, Dictionary\n",
    "\n",
    "Immutable data types- An immutable object cannot be changed after it is created. Example:  tuples, int, float, bool"
   ]
  },
  {
   "cell_type": "code",
   "execution_count": 10,
   "id": "5ed8c081-f835-4e95-9600-1c3669c227b8",
   "metadata": {},
   "outputs": [
    {
     "name": "stdout",
     "output_type": "stream",
     "text": [
      "List after changing value using indexing =  [1, 2, 3, 4, 100]\n",
      "*****************************************************************\n"
     ]
    },
    {
     "ename": "TypeError",
     "evalue": "'tuple' object does not support item assignment",
     "output_type": "error",
     "traceback": [
      "\u001b[0;31m---------------------------------------------------------------------------\u001b[0m",
      "\u001b[0;31mTypeError\u001b[0m                                 Traceback (most recent call last)",
      "Cell \u001b[0;32mIn[10], line 9\u001b[0m\n\u001b[1;32m      7\u001b[0m \u001b[38;5;66;03m#Example: Immutable data types (it will give error if we try to change the value)\u001b[39;00m\n\u001b[1;32m      8\u001b[0m \u001b[38;5;28mtuple\u001b[39m \u001b[38;5;241m=\u001b[39m (\u001b[38;5;241m1\u001b[39m,\u001b[38;5;241m2\u001b[39m,\u001b[38;5;241m3\u001b[39m,\u001b[38;5;241m4\u001b[39m,\u001b[38;5;241m5\u001b[39m)\n\u001b[0;32m----> 9\u001b[0m \u001b[38;5;28;43mtuple\u001b[39;49m\u001b[43m[\u001b[49m\u001b[38;5;241;43m4\u001b[39;49m\u001b[43m]\u001b[49m \u001b[38;5;241m=\u001b[39m \u001b[38;5;241m100\u001b[39m\n\u001b[1;32m     10\u001b[0m \u001b[38;5;28mprint\u001b[39m(\u001b[38;5;124m\"\u001b[39m\u001b[38;5;124mList after changing value using indexing = \u001b[39m\u001b[38;5;124m\"\u001b[39m, \u001b[38;5;28mtuple\u001b[39m)\n",
      "\u001b[0;31mTypeError\u001b[0m: 'tuple' object does not support item assignment"
     ]
    }
   ],
   "source": [
    "#Example: Mutable data types\n",
    "list = [1,2,3,4,5]\n",
    "list[4] = 100\n",
    "print(\"List after changing value using indexing = \", list)\n",
    "print('*'*65)\n",
    "\n",
    "#Example: Immutable data types (it will give error if we try to change the value)\n",
    "tuple = (1,2,3,4,5)\n",
    "tuple[4] = 100\n",
    "print(\"List after changing value using indexing = \", tuple)"
   ]
  },
  {
   "cell_type": "code",
   "execution_count": null,
   "id": "659c31dd-ffb1-4a84-8aac-7db8d0f3794e",
   "metadata": {},
   "outputs": [],
   "source": []
  }
 ],
 "metadata": {
  "kernelspec": {
   "display_name": "Python 3 (ipykernel)",
   "language": "python",
   "name": "python3"
  },
  "language_info": {
   "codemirror_mode": {
    "name": "ipython",
    "version": 3
   },
   "file_extension": ".py",
   "mimetype": "text/x-python",
   "name": "python",
   "nbconvert_exporter": "python",
   "pygments_lexer": "ipython3",
   "version": "3.10.8"
  }
 },
 "nbformat": 4,
 "nbformat_minor": 5
}
