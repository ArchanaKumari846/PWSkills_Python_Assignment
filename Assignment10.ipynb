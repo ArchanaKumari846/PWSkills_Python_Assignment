{
 "cells": [
  {
   "cell_type": "markdown",
   "id": "516e7924-2980-40f6-8304-013d82c39a16",
   "metadata": {},
   "source": [
    "### Q1. What is multiprocessing in python? Why is it useful?\n",
    "\n",
    "#### Answer:"
   ]
  },
  {
   "cell_type": "markdown",
   "id": "6daedd16-47cf-40d7-9aee-059457cee0c0",
   "metadata": {},
   "source": [
    "- Multiprocessing in Python refers to a programming technique that allows the execution of multiple processes concurrently. Each process runs in its separate memory space and has its Python interpreter. Unlike multithreading, which shares the same memory space, multiprocessing takes advantage of multiple CPU cores, enabling true parallel execution of tasks. The Python multiprocessing module provides support for creating and managing processes in a straightforward manner.\n",
    "\n",
    "- Multiprocessing is useful for CPU-bound tasks, where the computation time is the primary bottleneck. By utilizing multiple processes, it allows for better utilization of available CPU cores and significantly improves the performance of such tasks."
   ]
  },
  {
   "cell_type": "markdown",
   "id": "eb4389f5-eac5-4661-9a7d-b50284cb70f3",
   "metadata": {},
   "source": [
    "### Q2. What are the differences between multiprocessing and multithreading?\n",
    "\n",
    "#### Answer:"
   ]
  },
  {
   "cell_type": "markdown",
   "id": "89d3b4e2-cb0f-4442-bcdc-c3d378761e4b",
   "metadata": {},
   "source": [
    "The main differences between multiprocessing and multithreading are as follows:\n",
    "\n",
    "- Memory Space: \n",
    "    - In multiprocessing, each process has its separate memory space, while in multithreading, all threads share the same memory space.\n",
    "\n",
    "- CPU Utilization: \n",
    "    - Multiprocessing takes advantage of multiple CPU cores, achieving true parallelism, whereas multithreading, especially in CPython (due to the Global Interpreter Lock or GIL), doesn't fully utilize multiple cores for CPU-bound tasks.\n",
    "\n",
    "- Isolation: \n",
    "    - In multiprocessing, processes are isolated from each other, and each has its Python interpreter, making them independent of each other. In multithreading, threads can share data more easily but must be carefully synchronized to avoid race conditions.\n",
    "\n",
    "- Complexity: \n",
    "    - Multithreading is generally simpler to implement and manage compared to multiprocessing, as shared resources need to be managed explicitly in multiprocessing to avoid issues like race conditions."
   ]
  },
  {
   "cell_type": "markdown",
   "id": "070c8216-b404-4c04-a22f-f8cdde99a6ee",
   "metadata": {},
   "source": [
    "### Q3. Write a python code to create a process using the multiprocessing module.\n",
    "\n",
    "#### Answer:"
   ]
  },
  {
   "cell_type": "code",
   "execution_count": 1,
   "id": "cdf154a4-d13a-4071-a723-c6642d435305",
   "metadata": {},
   "outputs": [
    {
     "name": "stdout",
     "output_type": "stream",
     "text": [
      "Number: 1\n",
      "Number: 2\n",
      "Number: 3\n",
      "Number: 4\n",
      "Number: 5\n",
      "Process finished.\n"
     ]
    }
   ],
   "source": [
    "import multiprocessing\n",
    "\n",
    "def print_numbers():\n",
    "    for i in range(1, 6):\n",
    "        print(\"Number:\", i)\n",
    "\n",
    "if __name__ == \"__main__\":\n",
    "    process = multiprocessing.Process(target=print_numbers)\n",
    "    process.start()\n",
    "    process.join()\n",
    "    print(\"Process finished.\")"
   ]
  },
  {
   "cell_type": "markdown",
   "id": "788f3f31-561a-44d5-8050-b6c51cd224e7",
   "metadata": {},
   "source": [
    "### Q4. What is a multiprocessing pool in python? Why is it used?\n",
    "\n",
    "#### Answer:"
   ]
  },
  {
   "cell_type": "markdown",
   "id": "7749b610-1143-4e55-a2c2-db0f803b9d39",
   "metadata": {},
   "source": [
    "- A multiprocessing pool in Python is a mechanism provided by the multiprocessing module to manage a group of worker processes. It allows you to efficiently distribute tasks across multiple processes and retrieve results asynchronously.\n",
    "\n",
    "- Using a multiprocessing pool is useful when you have a large number of tasks to perform, and you want to take advantage of multiple CPU cores for parallel processing. The pool automatically manages the creation and allocation of worker processes, making it easier to distribute the tasks and collect the results."
   ]
  },
  {
   "cell_type": "markdown",
   "id": "4a9dce4a-18b2-4354-8112-59cda6f826d4",
   "metadata": {},
   "source": [
    "### Q5. How can we create a pool of worker processes in python using the multiprocessing module?\n",
    "\n",
    "#### Answer:"
   ]
  },
  {
   "cell_type": "markdown",
   "id": "ddd823f0-a6c8-42a2-b0ab-014f96194a0c",
   "metadata": {},
   "source": [
    "To create a pool of worker processes in Python using the multiprocessing module, you can use the multiprocessing.Pool class. The Pool class provides a simple interface to distribute work across multiple processes efficiently.\n",
    "\n",
    "#### Example:"
   ]
  },
  {
   "cell_type": "code",
   "execution_count": 2,
   "id": "67f500ae-68e6-48fa-abe3-baef2e8a06cc",
   "metadata": {},
   "outputs": [
    {
     "name": "stdout",
     "output_type": "stream",
     "text": [
      "Squared numbers: [1, 4, 9, 16, 25]\n"
     ]
    }
   ],
   "source": [
    "import multiprocessing\n",
    "\n",
    "def square_number(x):\n",
    "    return x * x\n",
    "\n",
    "if __name__ == \"__main__\":\n",
    "    numbers = [1, 2, 3, 4, 5]\n",
    "    with multiprocessing.Pool() as pool:\n",
    "        results = pool.map(square_number, numbers)\n",
    "\n",
    "    print(\"Squared numbers:\", results)"
   ]
  },
  {
   "cell_type": "markdown",
   "id": "7b9e711f-706e-41a8-b0a8-541bc42859fb",
   "metadata": {},
   "source": [
    "- In this example, the square_number function is applied to each element in the numbers list using the map() method of the Pool class. The map() method distributes the work among the worker processes in the pool, and the results are collected asynchronously."
   ]
  },
  {
   "cell_type": "markdown",
   "id": "2e3a7de9-3fee-4794-8274-88abdbe8bc14",
   "metadata": {},
   "source": [
    "### Q6. Write a python program to create 4 processes, each process should print a different number using the multiprocessing module in python.\n",
    "\n",
    "#### Answer:"
   ]
  },
  {
   "cell_type": "code",
   "execution_count": 5,
   "id": "c6ae2f45-6b3f-4cac-a830-69394df190d0",
   "metadata": {},
   "outputs": [
    {
     "name": "stdout",
     "output_type": "stream",
     "text": [
      "\n",
      "Number:  1\n",
      "Number: \n",
      " 2\n",
      "\n",
      "Number:  3\n",
      "\n",
      "Number:  4\n",
      "All processes have finished.\n"
     ]
    }
   ],
   "source": [
    "import multiprocessing\n",
    "\n",
    "def print_number(number):\n",
    "    print(\"\\nNumber: \", number)\n",
    "\n",
    "if __name__ == \"__main__\":\n",
    "    processes = []\n",
    "\n",
    "    for i in range(1, 5):\n",
    "        process = multiprocessing.Process(target=print_number, args=(i,))\n",
    "        processes.append(process)\n",
    "        process.start()\n",
    "\n",
    "    for process in processes:\n",
    "        process.join()\n",
    "\n",
    "    print(\"All processes have finished.\")"
   ]
  },
  {
   "cell_type": "markdown",
   "id": "3d43eae4-a41d-4c97-ada7-b34fbf246426",
   "metadata": {},
   "source": [
    "- In this program, we create four processes, each printing a different number from 1 to 4. \n",
    "\n",
    "- The print_number function takes a number as an argument and prints it. \n",
    "\n",
    "- We start each process, wait for them to finish using the join() method, and then print a message indicating that all processes have finished."
   ]
  },
  {
   "cell_type": "code",
   "execution_count": null,
   "id": "7db03029-3566-490e-bf81-5b4c196862be",
   "metadata": {},
   "outputs": [],
   "source": []
  }
 ],
 "metadata": {
  "kernelspec": {
   "display_name": "Python 3 (ipykernel)",
   "language": "python",
   "name": "python3"
  },
  "language_info": {
   "codemirror_mode": {
    "name": "ipython",
    "version": 3
   },
   "file_extension": ".py",
   "mimetype": "text/x-python",
   "name": "python",
   "nbconvert_exporter": "python",
   "pygments_lexer": "ipython3",
   "version": "3.10.8"
  }
 },
 "nbformat": 4,
 "nbformat_minor": 5
}
