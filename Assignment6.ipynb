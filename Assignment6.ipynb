{
 "cells": [
  {
   "cell_type": "markdown",
   "id": "b9a0d79b-4189-4361-80d2-45d827887c84",
   "metadata": {},
   "source": [
    "### Create a vehicle class with an init method having instance variables as name_of_vehicle, max_speed and average_of_vehicle."
   ]
  },
  {
   "cell_type": "markdown",
   "id": "13f9db9c-73d2-4e3b-a938-f236f05999d5",
   "metadata": {},
   "source": [
    "#### Answer: \n",
    "A vehicle class with an init method having instance variables as name_of_vehicle, max_speed and average_of_vehicle is:\n",
    "\n",
    "Example:"
   ]
  },
  {
   "cell_type": "code",
   "execution_count": 14,
   "id": "7ee21794-4454-4aef-94fe-f19709f30ea4",
   "metadata": {},
   "outputs": [],
   "source": [
    "#initializing class\n",
    "class Vehicle:\n",
    "    def __init__(self, name_of_vehicle, max_speed, average_speed):\n",
    "        self.name_of_vehicle = name_of_vehicle\n",
    "        self.max_speed = max_speed\n",
    "        self.average_speed = average_speed"
   ]
  },
  {
   "cell_type": "code",
   "execution_count": 15,
   "id": "3b0a064b-ebbe-4929-93a7-4f76520df5bd",
   "metadata": {},
   "outputs": [],
   "source": [
    "# Create an instance of Vehicle class\n",
    "car = Vehicle(\"Car\", 200, 80)"
   ]
  },
  {
   "cell_type": "code",
   "execution_count": 16,
   "id": "97c636ff-53e7-444a-a38e-790f92d13f93",
   "metadata": {},
   "outputs": [
    {
     "name": "stdout",
     "output_type": "stream",
     "text": [
      "Name of Vehicle: Car\n",
      "Max Speed: 200\n",
      "Average Speed: 80\n"
     ]
    }
   ],
   "source": [
    "# Access the instance variables\n",
    "print(\"Name of Vehicle:\", car.name_of_vehicle)\n",
    "print(\"Max Speed:\", car.max_speed)\n",
    "print(\"Average Speed:\", car.average_speed)"
   ]
  },
  {
   "cell_type": "markdown",
   "id": "64d5875f-ec11-4c9f-ba28-f8d25e5fbbb5",
   "metadata": {},
   "source": [
    "### Q2. Create a child class car from the vehicle class created in Que 1, which will inherit the vehicle class. Create a method named seating_capacity which takes capacity as an argument and returns the name of the vehicle and its seating capacity."
   ]
  },
  {
   "cell_type": "markdown",
   "id": "da729c91-4770-44cb-9166-b963127d1715",
   "metadata": {},
   "source": [
    "#### Answer: \n",
    "A method named seating_capacity which takes capacity as an argument and returns the name of the vehicle and its seating capacity is:\n",
    "\n",
    "Example:"
   ]
  },
  {
   "cell_type": "code",
   "execution_count": 17,
   "id": "00de5611-4d13-4cf6-9567-1f80e268d6b8",
   "metadata": {},
   "outputs": [],
   "source": [
    "class Car(Vehicle):\n",
    "    def seating_capacity(self, capacity):\n",
    "        return f\"The {self.name_of_vehicle} has a seating capacity of {capacity}.\""
   ]
  },
  {
   "cell_type": "code",
   "execution_count": 18,
   "id": "be29d56d-0c13-4b54-956e-55587eab99cd",
   "metadata": {},
   "outputs": [],
   "source": [
    "# Create an instance of Car class\n",
    "car = Car(\"Car\", 200, 80)"
   ]
  },
  {
   "cell_type": "code",
   "execution_count": 19,
   "id": "b62e2126-c0f4-499d-a9f1-e9855605dbcd",
   "metadata": {},
   "outputs": [
    {
     "name": "stdout",
     "output_type": "stream",
     "text": [
      "The Car has a seating capacity of 5.\n"
     ]
    }
   ],
   "source": [
    "# Call the method specific to Car class\n",
    "capacity = 5\n",
    "result = car.seating_capacity(capacity)\n",
    "print(result)"
   ]
  },
  {
   "cell_type": "markdown",
   "id": "87fb4972-3512-4d51-830d-cd269c052c16",
   "metadata": {},
   "source": [
    "### Q3. What is multiple inheritance? Write a python code to demonstrate multiple inheritance."
   ]
  },
  {
   "cell_type": "markdown",
   "id": "e4df8514-bec4-4e9a-b510-561a6c72ccda",
   "metadata": {},
   "source": [
    "#### Answer:\n",
    "\n",
    "Multiple inheritance is a feature in object-oriented programming where a class can inherit attributes and methods from multiple parent classes. It allows a child class to inherit from more than one base class, thus enabling the child class to access and utilize the attributes and behaviors of all the parent classes.\n",
    "\n",
    "Example:"
   ]
  },
  {
   "cell_type": "code",
   "execution_count": 20,
   "id": "c6cfeea9-cd34-4032-9c81-737f709a30a3",
   "metadata": {},
   "outputs": [],
   "source": [
    "class Shape:\n",
    "    def __init__(self, color):\n",
    "        self.color = color\n",
    "\n",
    "    def draw(self):\n",
    "        print(f\"Drawing a shape with color: {self.color}\")\n",
    "\n",
    "\n",
    "class Sound:\n",
    "    def make_sound(self):\n",
    "        print(\"Making a sound\")\n",
    "\n",
    "\n",
    "class ColoredShape(Shape, Sound):\n",
    "    def __init__(self, color):\n",
    "        super().__init__(color)"
   ]
  },
  {
   "cell_type": "code",
   "execution_count": 21,
   "id": "a75704fe-9d9d-437d-818e-ccb66c03d053",
   "metadata": {},
   "outputs": [
    {
     "name": "stdout",
     "output_type": "stream",
     "text": [
      "Drawing a shape with color: Red\n",
      "Making a sound\n"
     ]
    }
   ],
   "source": [
    "colored_shape = ColoredShape(\"Red\")\n",
    "colored_shape.draw()         # Inherited from Shape class\n",
    "colored_shape.make_sound()   # Inherited from Sound class"
   ]
  },
  {
   "cell_type": "markdown",
   "id": "1c3da4d0-4a20-4d9f-881b-d94e93e31e49",
   "metadata": {},
   "source": [
    "### Q4. What are getter and setter in python? Create a class and create a getter and a setter method in this class."
   ]
  },
  {
   "cell_type": "markdown",
   "id": "a1301d63-c82d-40f3-b6fa-41bbfc35af9a",
   "metadata": {},
   "source": [
    "#### Answer:\n",
    "\n",
    "-  Getters and Setters are methods used to access and modify the attributes of a class, providing controlled access to the class's private variables. They are commonly used in object-oriented programming to enforce encapsulation and maintain data integrity.\n",
    "\n",
    "- A getter method, also known as an accessor method, is used to retrieve the value of an attribute. It is typically named with the prefix \"get_\" followed by the attribute name.\n",
    "\n",
    "- A setter method, also known as a mutator method, is used to modify the value of an attribute. It is typically named with the prefix \"set_\" followed by the attribute name.\n",
    "\n",
    "\n",
    "Example:"
   ]
  },
  {
   "cell_type": "code",
   "execution_count": 22,
   "id": "d91ccadc-531f-440c-955e-dc1588bb7209",
   "metadata": {},
   "outputs": [],
   "source": [
    "class Person:\n",
    "    def __init__(self, name, age):\n",
    "        self._name = name\n",
    "        self._age = age\n",
    "\n",
    "    def get_name(self):\n",
    "        return self._name\n",
    "\n",
    "    def set_name(self, name):\n",
    "        self._name = name\n",
    "\n",
    "    def get_age(self):\n",
    "        return self._age\n",
    "\n",
    "    def set_age(self, age):\n",
    "        if age > 0:\n",
    "            self._age = age"
   ]
  },
  {
   "cell_type": "code",
   "execution_count": 23,
   "id": "ea664aa6-e76c-4c46-96ef-a3ff40a4d0bb",
   "metadata": {},
   "outputs": [
    {
     "name": "stdout",
     "output_type": "stream",
     "text": [
      "Name: Amit\n",
      "Age: 25 \n",
      "\n",
      "Updated Name: Michael\n",
      "Updated Age: 30\n"
     ]
    }
   ],
   "source": [
    "# Create an instance of the Person class\n",
    "person = Person(\"Amit\", 25)\n",
    "\n",
    "# Get the name and age using the getter methods\n",
    "print(\"Name:\", person.get_name())\n",
    "print(\"Age:\", person.get_age(), \"\\n\")\n",
    "\n",
    "# Set a new name and age using the setter methods\n",
    "person.set_name(\"Michael\")\n",
    "person.set_age(30)\n",
    "\n",
    "# Get the updated name and age using the getter methods\n",
    "print(\"Updated Name:\", person.get_name())\n",
    "print(\"Updated Age:\", person.get_age())"
   ]
  },
  {
   "cell_type": "markdown",
   "id": "40be8712-e87e-47b7-88c0-7f7c76f994a9",
   "metadata": {},
   "source": [
    "### Q5.What is method overriding in python? Write a python code to demonstrate method overriding."
   ]
  },
  {
   "cell_type": "markdown",
   "id": "dcef0ef6-679a-4287-84e6-0cb6a04cff20",
   "metadata": {},
   "source": [
    "#### Answer:\n",
    "\n",
    "Method overriding is a feature of object-oriented programming where a subclass provides its own implementation of a method that is already defined in its superclass. The overridden method in the subclass has the same name, parameters, and return type as the method in the superclass, but it provides a different implementation to suit the specific behavior of the subclass.\n",
    "\n",
    "Example:"
   ]
  },
  {
   "cell_type": "code",
   "execution_count": 24,
   "id": "98818601-c952-4db3-b5ba-aea222cd0b38",
   "metadata": {},
   "outputs": [],
   "source": [
    "class Vehicle:\n",
    "    def __init__(self, name):\n",
    "        self.name = name\n",
    "\n",
    "    def drive(self):\n",
    "        print(f\"{self.name} is being driven.\")\n",
    "\n",
    "    def stop(self):\n",
    "        print(f\"{self.name} has stopped.\")\n",
    "\n",
    "\n",
    "class Car(Vehicle):\n",
    "    def __init__(self, name):\n",
    "        super().__init__(name)\n",
    "\n",
    "    def drive(self):\n",
    "        print(f\"{self.name} is being driven on the road.\")\n",
    "\n",
    "    def stop(self):\n",
    "        print(f\"{self.name} has stopped on the road.\")"
   ]
  },
  {
   "cell_type": "code",
   "execution_count": 25,
   "id": "18aee340-2d8b-4328-bbfb-e34a3a9e3e46",
   "metadata": {},
   "outputs": [
    {
     "name": "stdout",
     "output_type": "stream",
     "text": [
      "Generic Vehicle is being driven.\n",
      "Generic Vehicle has stopped.\n",
      "Sports Car is being driven on the road.\n",
      "Sports Car has stopped on the road.\n"
     ]
    }
   ],
   "source": [
    "vehicle = Vehicle(\"Generic Vehicle\")\n",
    "car = Car(\"Sports Car\")\n",
    "\n",
    "vehicle.drive()   # Output: Generic Vehicle is being driven.\n",
    "vehicle.stop()    # Output: Generic Vehicle has stopped.\n",
    "\n",
    "car.drive()       # Output: Sports Car is being driven on the road.\n",
    "car.stop()        # Output: Sports Car has stopped on the road."
   ]
  },
  {
   "cell_type": "code",
   "execution_count": null,
   "id": "160fc6e7-e72a-415c-9b43-93621884af46",
   "metadata": {},
   "outputs": [],
   "source": []
  },
  {
   "cell_type": "code",
   "execution_count": null,
   "id": "fbd242c2-85ea-41e4-a36f-868223161726",
   "metadata": {},
   "outputs": [],
   "source": []
  }
 ],
 "metadata": {
  "kernelspec": {
   "display_name": "Python 3 (ipykernel)",
   "language": "python",
   "name": "python3"
  },
  "language_info": {
   "codemirror_mode": {
    "name": "ipython",
    "version": 3
   },
   "file_extension": ".py",
   "mimetype": "text/x-python",
   "name": "python",
   "nbconvert_exporter": "python",
   "pygments_lexer": "ipython3",
   "version": "3.10.8"
  }
 },
 "nbformat": 4,
 "nbformat_minor": 5
}
