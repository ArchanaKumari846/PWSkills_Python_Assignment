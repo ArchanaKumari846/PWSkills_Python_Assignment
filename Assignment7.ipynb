{
 "cells": [
  {
   "cell_type": "markdown",
   "id": "3edc3de4-7f3e-4dc1-a9ba-51d05208d104",
   "metadata": {},
   "source": [
    "### Q1. What is an Exception in python? Write the difference between Exceptions and Syntax errors.\n",
    "\n",
    "#### Answer:"
   ]
  },
  {
   "cell_type": "markdown",
   "id": "0a307697-91b5-435c-942c-0742aeffb102",
   "metadata": {},
   "source": [
    "#### Exception:\n",
    "An exception is a Python object that represents an error. It occurs during the execution of a program and disrupts the normal flow of instructions. When a Python script raises an exception, it must either handle the exception immediately otherwise it terminates and quits. It provides a mechanism to catch and handle errors gracefully, preventing the program from crashing.\n",
    "\n",
    "#### The main difference between exceptions and syntax errors is as follows:\n",
    "\n",
    "##### Syntax errors: \n",
    "- Syntax errors occur when the code violates the rules and structure of the programming language. These errors are caught by the interpreter during the parsing of the code and prevent the program from running. Syntax errors are typically caused by typos, missing or incorrect punctuation, incorrect language constructs, missed reserved keywords, spaces, quotes placed improperly, indentations and incorrect usage of blocks, invalid declarations, and if the function calls and definitions aren't done properly.\n",
    "\n",
    "##### Exceptions: \n",
    "- Exceptions occur during the execution of a program, indicating that an error or an exceptional condition has occurred. Unlike syntax errors, exceptions are detected at runtime. Exceptions can be caused by various factors such as invalid input, division by zero, file not found, or accessing an invalid index in a list."
   ]
  },
  {
   "cell_type": "markdown",
   "id": "181ddede-c58c-46cb-ae30-bce08178fbc9",
   "metadata": {},
   "source": [
    "### Q2. What happens when an exception is not handled? Explain with an example.\n",
    "\n",
    "#### Answer:"
   ]
  },
  {
   "cell_type": "markdown",
   "id": "0bafd884-91e8-4d9e-bbee-86b752a31a43",
   "metadata": {},
   "source": [
    "When an exception is not handled, it propagates up the call stack until it reaches the highest level in the program. If no exception handler is found, the program terminates and displays an error message, including the traceback information that shows where the exception occurred.\n",
    "\n",
    "#### Example:"
   ]
  },
  {
   "cell_type": "code",
   "execution_count": 1,
   "id": "ea98c5ff-9f23-411f-9e9f-2b3d9b4dd9f2",
   "metadata": {},
   "outputs": [
    {
     "ename": "ZeroDivisionError",
     "evalue": "division by zero",
     "output_type": "error",
     "traceback": [
      "\u001b[0;31m---------------------------------------------------------------------------\u001b[0m",
      "\u001b[0;31mZeroDivisionError\u001b[0m                         Traceback (most recent call last)",
      "Cell \u001b[0;32mIn[1], line 5\u001b[0m\n\u001b[1;32m      2\u001b[0m     result \u001b[38;5;241m=\u001b[39m a \u001b[38;5;241m/\u001b[39m b\n\u001b[1;32m      3\u001b[0m     \u001b[38;5;28mprint\u001b[39m(\u001b[38;5;124m\"\u001b[39m\u001b[38;5;124mResult:\u001b[39m\u001b[38;5;124m\"\u001b[39m, result)\n\u001b[0;32m----> 5\u001b[0m \u001b[43mdivide\u001b[49m\u001b[43m(\u001b[49m\u001b[38;5;241;43m5\u001b[39;49m\u001b[43m,\u001b[49m\u001b[43m \u001b[49m\u001b[38;5;241;43m0\u001b[39;49m\u001b[43m)\u001b[49m\n",
      "Cell \u001b[0;32mIn[1], line 2\u001b[0m, in \u001b[0;36mdivide\u001b[0;34m(a, b)\u001b[0m\n\u001b[1;32m      1\u001b[0m \u001b[38;5;28;01mdef\u001b[39;00m \u001b[38;5;21mdivide\u001b[39m(a, b):\n\u001b[0;32m----> 2\u001b[0m     result \u001b[38;5;241m=\u001b[39m \u001b[43ma\u001b[49m\u001b[43m \u001b[49m\u001b[38;5;241;43m/\u001b[39;49m\u001b[43m \u001b[49m\u001b[43mb\u001b[49m\n\u001b[1;32m      3\u001b[0m     \u001b[38;5;28mprint\u001b[39m(\u001b[38;5;124m\"\u001b[39m\u001b[38;5;124mResult:\u001b[39m\u001b[38;5;124m\"\u001b[39m, result)\n",
      "\u001b[0;31mZeroDivisionError\u001b[0m: division by zero"
     ]
    }
   ],
   "source": [
    "def divide(a, b):\n",
    "    result = a / b\n",
    "    print(\"Result:\", result)\n",
    "\n",
    "divide(5, 0)"
   ]
  },
  {
   "cell_type": "markdown",
   "id": "6b1025fa-d456-4ebc-aabc-028c0ca96494",
   "metadata": {},
   "source": [
    "__Note:__ We attempt to divide the number 5 by 0, which raises a ZeroDivisionError as we can't divide any number with 0."
   ]
  },
  {
   "cell_type": "markdown",
   "id": "6f155abe-60ff-4068-8138-6fd3d0be5ebe",
   "metadata": {},
   "source": [
    "### Q3. Which Python statements are used to catch and handle exceptions? Explain with an example.\n",
    "\n",
    "#### Answer:"
   ]
  },
  {
   "cell_type": "markdown",
   "id": "e2d12745-3af0-4a97-9f94-41c5dd03b87b",
   "metadata": {},
   "source": [
    "The try-except statement is used to catch and handle specific exceptions. It allows you to specify the code that may raise an exception within the try block and define how to handle the exception in the except block. \n",
    "\n",
    "#### Example:"
   ]
  },
  {
   "cell_type": "code",
   "execution_count": 3,
   "id": "c8a7682b-898b-4f6d-86d2-7ed4968d22d0",
   "metadata": {},
   "outputs": [
    {
     "name": "stdin",
     "output_type": "stream",
     "text": [
      "Enter a number:  5\n"
     ]
    },
    {
     "name": "stdout",
     "output_type": "stream",
     "text": [
      "Result: 2.0\n"
     ]
    }
   ],
   "source": [
    "#Example1\n",
    "try:\n",
    "    num = int(input(\"Enter a number: \"))\n",
    "    result = 10 / num\n",
    "    print(\"Result:\", result)\n",
    "except ValueError:\n",
    "    print(\"Invalid input. Please enter a valid number.\")\n",
    "except ZeroDivisionError:\n",
    "    print(\"Cannot divide by zero.\")"
   ]
  },
  {
   "cell_type": "code",
   "execution_count": 6,
   "id": "257e52a1-de66-4768-bb20-f4e824a99674",
   "metadata": {},
   "outputs": [
    {
     "name": "stdin",
     "output_type": "stream",
     "text": [
      "Enter a number:  0\n"
     ]
    },
    {
     "name": "stdout",
     "output_type": "stream",
     "text": [
      "Cannot divide by zero.\n"
     ]
    }
   ],
   "source": [
    "#Example2\n",
    "try:\n",
    "    num = int(input(\"Enter a number: \"))\n",
    "    result = 10 / num\n",
    "    print(\"Result:\", result)\n",
    "except ValueError:\n",
    "    print(\"Invalid input. Please enter a valid number.\")\n",
    "except ZeroDivisionError:\n",
    "    print(\"Cannot divide by zero.\")"
   ]
  },
  {
   "cell_type": "markdown",
   "id": "f499d7c6-151d-4289-ba36-0d51b049d78c",
   "metadata": {},
   "source": [
    "__Note:__  If the user enters a non-numeric value, a ValueError is raised. If the user enters 0, a ZeroDivisionError is raised. The except blocks handle each specific exception, providing appropriate error messages."
   ]
  },
  {
   "cell_type": "markdown",
   "id": "c5ea1556-959f-4c2d-af48-f1441eb336f4",
   "metadata": {},
   "source": [
    "### Q4. Explain with an example:\n",
    "    a. try and else    \n",
    "    b. finally\n",
    "    c. raise\n",
    "    \n",
    "#### Answer:"
   ]
  },
  {
   "cell_type": "markdown",
   "id": "33d71921-4d95-4470-8257-86e2805a1a43",
   "metadata": {},
   "source": [
    "##### a. try and else:\n",
    "If no exception occurs, the else block is executed, and the result is printed. If an exception occurs, the corresponding except block is executed instead.\n",
    "\n",
    "#### Example:"
   ]
  },
  {
   "cell_type": "code",
   "execution_count": 2,
   "id": "288af7dd-dd1c-42fb-8e1d-aceacb5a52ad",
   "metadata": {},
   "outputs": [
    {
     "name": "stdin",
     "output_type": "stream",
     "text": [
      "Enter a number:  2.2\n"
     ]
    },
    {
     "name": "stdout",
     "output_type": "stream",
     "text": [
      "Invalid input. Please enter a valid number.\n"
     ]
    }
   ],
   "source": [
    "#Example\n",
    "try:\n",
    "    num = int(input(\"Enter a number: \"))\n",
    "    result = 10 / num\n",
    "except ValueError:\n",
    "    print(\"Invalid input. Please enter a valid number.\")\n",
    "except ZeroDivisionError:\n",
    "    print(\"Cannot divide by zero.\")\n",
    "else:\n",
    "    print(\"Result:\", result)"
   ]
  },
  {
   "cell_type": "code",
   "execution_count": 7,
   "id": "dcb2b899-1157-4419-a19c-a8ca73289792",
   "metadata": {},
   "outputs": [
    {
     "name": "stdin",
     "output_type": "stream",
     "text": [
      "Enter a number:  5\n"
     ]
    },
    {
     "name": "stdout",
     "output_type": "stream",
     "text": [
      "Result: 2.0\n"
     ]
    }
   ],
   "source": [
    "#Example2\n",
    "try:\n",
    "    num = int(input(\"Enter a number: \"))\n",
    "    result = 10 / num\n",
    "except ValueError:\n",
    "    print(\"Invalid input. Please enter a valid number.\")\n",
    "except ZeroDivisionError:\n",
    "    print(\"Cannot divide by zero.\")\n",
    "else:\n",
    "    print(\"Result:\", result)"
   ]
  },
  {
   "cell_type": "markdown",
   "id": "0c98dc83-ace3-4d04-9868-e559dbd3b457",
   "metadata": {},
   "source": [
    "##### b. finally:\n",
    "\n",
    "Whether an exception occurred or not, the finally block ensures that the file is closed, freeing up system resources.\n",
    "\n",
    "#### Example:"
   ]
  },
  {
   "cell_type": "code",
   "execution_count": 9,
   "id": "af10c2ce-62c9-4a10-9c22-facfc1dffdc7",
   "metadata": {},
   "outputs": [
    {
     "name": "stdin",
     "output_type": "stream",
     "text": [
      "Enter a number:  5\n"
     ]
    },
    {
     "name": "stdout",
     "output_type": "stream",
     "text": [
      "Result: 2.0\n",
      "It is always executed\n"
     ]
    }
   ],
   "source": [
    "try:\n",
    "    num = int(input(\"Enter a number: \"))\n",
    "    result = 10 / num\n",
    "except ValueError:\n",
    "    print(\"Invalid input. Please enter a valid number.\")\n",
    "except ZeroDivisionError:\n",
    "    print(\"Cannot divide by zero.\")\n",
    "else:\n",
    "    print(\"Result:\", result)\n",
    "finally:\n",
    "    print(\"It is always executed\")"
   ]
  },
  {
   "cell_type": "markdown",
   "id": "23e4f0a5-5158-47a1-a3cd-ddef06488186",
   "metadata": {},
   "source": [
    "##### c. raise:\n",
    "\n",
    "The raise statement is used to generate and propagate the exception. The except block catches the ValueError and prints an appropriate error message.\n",
    "\n",
    "#### Answer:"
   ]
  },
  {
   "cell_type": "code",
   "execution_count": 3,
   "id": "ec8873c5-5a91-4024-b398-734eb6bdce2b",
   "metadata": {},
   "outputs": [
    {
     "name": "stdin",
     "output_type": "stream",
     "text": [
      "Enter your age:  130\n"
     ]
    },
    {
     "name": "stdout",
     "output_type": "stream",
     "text": [
      "Error: Invalid age. Are you a vampire?\n"
     ]
    }
   ],
   "source": [
    "#Example1\n",
    "def validate_age(age):\n",
    "    if age < 0:\n",
    "        raise ValueError(\"Age cannot be negative.\")\n",
    "    elif age > 120:\n",
    "        raise ValueError(\"Invalid age. Are you a vampire?\")\n",
    "\n",
    "try:\n",
    "    user_age = int(input(\"Enter your age: \"))\n",
    "    validate_age(user_age)\n",
    "    print(\"Age validated successfully.\")\n",
    "except ValueError as e:\n",
    "    print(\"Error:\", str(e))"
   ]
  },
  {
   "cell_type": "code",
   "execution_count": 4,
   "id": "cdfbf7ef-b92c-4a4f-8c0e-ed97da2e5f82",
   "metadata": {},
   "outputs": [
    {
     "name": "stdin",
     "output_type": "stream",
     "text": [
      "Enter your age:  -2\n"
     ]
    },
    {
     "name": "stdout",
     "output_type": "stream",
     "text": [
      "Error: Age cannot be negative.\n"
     ]
    }
   ],
   "source": [
    "#Example2\n",
    "def validate_age(age):\n",
    "    if age < 0:\n",
    "        raise ValueError(\"Age cannot be negative.\")\n",
    "    elif age > 120:\n",
    "        raise ValueError(\"Invalid age. Are you a vampire?\")\n",
    "\n",
    "try:\n",
    "    user_age = int(input(\"Enter your age: \"))\n",
    "    validate_age(user_age)\n",
    "    print(\"Age validated successfully.\")\n",
    "except ValueError as e:\n",
    "    print(\"Error:\", str(e))"
   ]
  },
  {
   "cell_type": "code",
   "execution_count": 5,
   "id": "07767182-c8a7-4459-8f6c-2d4f456588e5",
   "metadata": {},
   "outputs": [
    {
     "name": "stdin",
     "output_type": "stream",
     "text": [
      "Enter your age:  28\n"
     ]
    },
    {
     "name": "stdout",
     "output_type": "stream",
     "text": [
      "Age validated successfully.\n"
     ]
    }
   ],
   "source": [
    "#Example3\n",
    "def validate_age(age):\n",
    "    if age < 0:\n",
    "        raise ValueError(\"Age cannot be negative.\")\n",
    "    elif age > 120:\n",
    "        raise ValueError(\"Invalid age. Are you a vampire?\")\n",
    "\n",
    "try:\n",
    "    user_age = int(input(\"Enter your age: \"))\n",
    "    validate_age(user_age)\n",
    "    print(\"Age validated successfully.\")\n",
    "except ValueError as e:\n",
    "    print(\"Error:\", str(e))"
   ]
  },
  {
   "cell_type": "markdown",
   "id": "5b3ca070-d528-4b17-8594-b0efd5077fe9",
   "metadata": {},
   "source": [
    "### Q5. What are Custom Exceptions in python? Why do we need Custom Exceptions? Explain with an example.\n",
    "\n",
    "#### Answer:"
   ]
  },
  {
   "cell_type": "markdown",
   "id": "5c2ab89c-1575-4edf-8158-73590fa05c11",
   "metadata": {},
   "source": [
    "- Custom exceptions in Python are user-defined exception classes that inherit from the base Exception class or one of its derived classes. \n",
    "- They allow you to define and handle application-specific exceptions that are not covered by the built-in exceptions. \n",
    "- Custom exceptions provide more descriptive and meaningful error messages, making it easier to identify and handle specific exceptional situations in your code.\n",
    "\n",
    "#### Example:"
   ]
  },
  {
   "cell_type": "code",
   "execution_count": 12,
   "id": "dfac5b8c-1ee3-4a78-8798-4d0c7632e64e",
   "metadata": {},
   "outputs": [
    {
     "name": "stdin",
     "output_type": "stream",
     "text": [
      "Enter your email address:  archana_gmail.com\n"
     ]
    },
    {
     "name": "stdout",
     "output_type": "stream",
     "text": [
      "Error: Invalid email address.\n"
     ]
    }
   ],
   "source": [
    "#Example1\n",
    "class InvalidEmailError(Exception):\n",
    "    pass\n",
    "\n",
    "def send_email(email):\n",
    "    if \"@\" not in email:\n",
    "        raise InvalidEmailError(\"Invalid email address.\")\n",
    "\n",
    "try:\n",
    "    user_email = input(\"Enter your email address: \")\n",
    "    send_email(user_email)\n",
    "    print(\"Email sent successfully.\")\n",
    "except InvalidEmailError as e:\n",
    "    print(\"Error:\", str(e))"
   ]
  },
  {
   "cell_type": "code",
   "execution_count": 2,
   "id": "a640703d-8aa8-40b2-9bfc-958d60aee2cc",
   "metadata": {},
   "outputs": [
    {
     "name": "stdin",
     "output_type": "stream",
     "text": [
      "Enter your email address:  ar@gmail.com\n"
     ]
    },
    {
     "name": "stdout",
     "output_type": "stream",
     "text": [
      "Email sent successfully.\n"
     ]
    }
   ],
   "source": [
    "#Example2\n",
    "class InvalidEmailError(Exception):\n",
    "    pass\n",
    "\n",
    "def send_email(email):\n",
    "    if \"@\" not in email:\n",
    "        raise InvalidEmailError(\"Invalid email address.\")\n",
    "\n",
    "try:\n",
    "    user_email = input(\"Enter your email address: \")\n",
    "    send_email(user_email)\n",
    "    print(\"Email sent successfully.\")\n",
    "except InvalidEmailError as e:\n",
    "    print(\"Error:\", str(e))"
   ]
  },
  {
   "cell_type": "markdown",
   "id": "f8ec76e8-fcdb-4e34-b2ed-f9517bc1d725",
   "metadata": {},
   "source": [
    "### Q6. Create custom exception class. Use this ,class to handle an exception.\n",
    "\n",
    "#### Example:"
   ]
  },
  {
   "cell_type": "code",
   "execution_count": 1,
   "id": "f0df0032-818e-4c89-ba6d-1a29c39d86e8",
   "metadata": {},
   "outputs": [
    {
     "name": "stdin",
     "output_type": "stream",
     "text": [
      "Enter a positive number:  -5\n"
     ]
    },
    {
     "name": "stdout",
     "output_type": "stream",
     "text": [
      "Error: Invalid input. Please enter a positive number.\n"
     ]
    }
   ],
   "source": [
    "#Example1\n",
    "class InvalidInputError(Exception):\n",
    "    pass\n",
    "\n",
    "try:\n",
    "    user_input = input(\"Enter a positive number: \")\n",
    "    if not user_input.isdigit() or int(user_input) <= 0:\n",
    "        raise InvalidInputError(\"Invalid input. Please enter a positive number.\")\n",
    "    else:\n",
    "        print(\"Input accepted.\")\n",
    "except InvalidInputError as e:\n",
    "    print(\"Error:\", str(e))"
   ]
  },
  {
   "cell_type": "code",
   "execution_count": 2,
   "id": "3c009c46-38a1-4e5a-940f-f93c29e4d2d5",
   "metadata": {},
   "outputs": [
    {
     "name": "stdin",
     "output_type": "stream",
     "text": [
      "Enter a positive number:  fg\n"
     ]
    },
    {
     "name": "stdout",
     "output_type": "stream",
     "text": [
      "Error: Invalid input. Please enter a positive number.\n"
     ]
    }
   ],
   "source": [
    "#Example2\n",
    "class InvalidInputError(Exception):\n",
    "    pass\n",
    "\n",
    "try:\n",
    "    user_input = input(\"Enter a positive number: \")\n",
    "    if not user_input.isdigit() or int(user_input) <= 0:\n",
    "        raise InvalidInputError(\"Invalid input. Please enter a positive number.\")\n",
    "    else:\n",
    "        print(\"Input accepted.\")\n",
    "except InvalidInputError as e:\n",
    "    print(\"Error:\", str(e))"
   ]
  },
  {
   "cell_type": "code",
   "execution_count": 1,
   "id": "e382c88d-6085-4642-8fa6-14e767bdccd7",
   "metadata": {},
   "outputs": [
    {
     "name": "stdin",
     "output_type": "stream",
     "text": [
      "Enter a positive number:  5\n"
     ]
    },
    {
     "name": "stdout",
     "output_type": "stream",
     "text": [
      "Input accepted.\n"
     ]
    }
   ],
   "source": [
    "#Example3\n",
    "class InvalidInputError(Exception):\n",
    "    pass\n",
    "\n",
    "try:\n",
    "    user_input = input(\"Enter a positive number: \")\n",
    "    if not user_input.isdigit() or int(user_input) <= 0:\n",
    "        raise InvalidInputError(\"Invalid input. Please enter a positive number.\")\n",
    "    else:\n",
    "        print(\"Input accepted.\")\n",
    "except InvalidInputError as e:\n",
    "    print(\"Error:\", str(e))"
   ]
  },
  {
   "cell_type": "code",
   "execution_count": 4,
   "id": "690b8d8c-9dbc-44e5-948f-4d8bd89e364a",
   "metadata": {},
   "outputs": [
    {
     "name": "stdin",
     "output_type": "stream",
     "text": [
      "Enter the item you want to buy:  Apple\n"
     ]
    },
    {
     "name": "stdout",
     "output_type": "stream",
     "text": [
      "Purchase successful.\n"
     ]
    }
   ],
   "source": [
    "#Another Example:\n",
    "class OutOfStockError(Exception):\n",
    "    pass\n",
    "\n",
    "def buy_item(item):\n",
    "    if item not in available_items:\n",
    "        raise OutOfStockError(f\"{item} is out of stock.\")\n",
    "    # Code to process the purchase\n",
    "\n",
    "available_items = [\"Apple\", \"Banana\", \"Orange\"]\n",
    "\n",
    "try:\n",
    "    item_to_buy = input(\"Enter the item you want to buy: \")\n",
    "    buy_item(item_to_buy)\n",
    "    print(\"Purchase successful.\")\n",
    "except OutOfStockError as e:\n",
    "    print(e)"
   ]
  },
  {
   "cell_type": "code",
   "execution_count": 5,
   "id": "b740a5f0-e489-42e5-9cbc-4b02f0652e46",
   "metadata": {},
   "outputs": [
    {
     "name": "stdin",
     "output_type": "stream",
     "text": [
      "Enter the item you want to buy:  Mango\n"
     ]
    },
    {
     "name": "stdout",
     "output_type": "stream",
     "text": [
      "Mango is out of stock.\n"
     ]
    }
   ],
   "source": [
    "#Another Example2:\n",
    "class OutOfStockError(Exception):\n",
    "    pass\n",
    "\n",
    "def buy_item(item):\n",
    "    if item not in available_items:\n",
    "        raise OutOfStockError(f\"{item} is out of stock.\")\n",
    "    # Code to process the purchase\n",
    "\n",
    "available_items = [\"Apple\", \"Banana\", \"Orange\"]\n",
    "\n",
    "try:\n",
    "    item_to_buy = input(\"Enter the item you want to buy: \")\n",
    "    buy_item(item_to_buy)\n",
    "    print(\"Purchase successful.\")\n",
    "except OutOfStockError as e:\n",
    "    print(e)"
   ]
  },
  {
   "cell_type": "code",
   "execution_count": null,
   "id": "5e0350ff-ed3c-4ebf-be77-2f81a8f9ba8c",
   "metadata": {},
   "outputs": [],
   "source": []
  }
 ],
 "metadata": {
  "kernelspec": {
   "display_name": "Python 3 (ipykernel)",
   "language": "python",
   "name": "python3"
  },
  "language_info": {
   "codemirror_mode": {
    "name": "ipython",
    "version": 3
   },
   "file_extension": ".py",
   "mimetype": "text/x-python",
   "name": "python",
   "nbconvert_exporter": "python",
   "pygments_lexer": "ipython3",
   "version": "3.10.8"
  }
 },
 "nbformat": 4,
 "nbformat_minor": 5
}
