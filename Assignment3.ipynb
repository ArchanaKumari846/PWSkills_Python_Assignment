{
 "cells": [
  {
   "cell_type": "markdown",
   "id": "959fe2ac-dea7-4d5f-9160-57e11e92356e",
   "metadata": {},
   "source": [
    "### Q1. Which keyword is used to create a function? Create a function to return a list of odd numbers in the range of 1 to 25."
   ]
  },
  {
   "cell_type": "markdown",
   "id": "9f6b9831-b881-4954-86c4-ec64d9e18a2e",
   "metadata": {},
   "source": [
    "##### Answer:\n",
    "\n",
    "\"def\" keyword is used to create a function.\n",
    "\n",
    "Example:"
   ]
  },
  {
   "cell_type": "code",
   "execution_count": 16,
   "id": "1f9f4d73-aec5-4f66-a7b1-dff065c9bfb6",
   "metadata": {},
   "outputs": [],
   "source": [
    "# Defining the function\n",
    "def get_odd_numbers():\n",
    "    odd_numbers = [] #initializing a list variable to store the value\n",
    "    for number in range(1, 26):\n",
    "        if number % 2 != 0:         # using operator \"% \"to check if remainder is not zero by dividing it by 2\n",
    "            odd_numbers.append(number)\n",
    "    return odd_numbers "
   ]
  },
  {
   "cell_type": "code",
   "execution_count": 17,
   "id": "4cf08df3-9bc5-42c8-bf9c-8bc9a3c065a9",
   "metadata": {},
   "outputs": [
    {
     "name": "stdout",
     "output_type": "stream",
     "text": [
      "List of odd numbers in the range of 1 to 25 is: \n",
      " [1, 3, 5, 7, 9, 11, 13, 15, 17, 19, 21, 23, 25]\n"
     ]
    }
   ],
   "source": [
    "# Calling the function to print the output\n",
    "print('List of odd numbers in the range of 1 to 25 is: \\n',get_odd_numbers())"
   ]
  },
  {
   "cell_type": "markdown",
   "id": "9909faeb-7c3a-4ea1-99e4-99a2f3273126",
   "metadata": {},
   "source": [
    "### Q2. Why *args and **kwargs is used in some functions? Create a function each for *args and **kwargs to demonstrate their use."
   ]
  },
  {
   "cell_type": "markdown",
   "id": "38f565b6-9049-42b9-8c75-f26becac9ae4",
   "metadata": {},
   "source": [
    "##### Answer:\n",
    "\n",
    "- __*args__ and __**kwargs__ is used in some functions to handle variable-length arguments. They allows to pass a variable number of arguments to a function.\n",
    "\n",
    "- __*args__ is used to pass a variable number of non-keyword arguments to a function. It allows to pass any number of positional arguments, which are then collected into a tuple inside the function.\n",
    "\n",
    "- __**kwargs__ is used to pass a variable number of keyword arguments to a function. It allows to pass any number of named arguments, which are then collected into a dictionary inside the function.\n",
    "\n",
    "Example:"
   ]
  },
  {
   "cell_type": "code",
   "execution_count": 22,
   "id": "fa1dd3fb-42ab-4e6f-99fa-af4446d99052",
   "metadata": {},
   "outputs": [],
   "source": [
    "# Defining the function for *args function\n",
    "def concatenate_strings(*args):\n",
    "    result = \"\"\n",
    "    for arg in args:\n",
    "        result += arg\n",
    "    return result"
   ]
  },
  {
   "cell_type": "code",
   "execution_count": 23,
   "id": "7b636542-62cf-4dbb-8fb6-c4f3f490705a",
   "metadata": {},
   "outputs": [
    {
     "name": "stdout",
     "output_type": "stream",
     "text": [
      "Hello Python\n",
      "My First Function Program\n"
     ]
    }
   ],
   "source": [
    "# Calling the function with different arguments\n",
    "print(concatenate_strings(\"Hello\", \" \", \"Python\"))\n",
    "print(concatenate_strings(\"My\", \" \", \"First\", \" \", \"Function\", \" \", \"Program\"))"
   ]
  },
  {
   "cell_type": "code",
   "execution_count": 25,
   "id": "6f655ff3-910c-46fd-9615-fb8f3a2ae841",
   "metadata": {},
   "outputs": [],
   "source": [
    "# Defining the function for **kwargs function\n",
    "def print_person_info(**kwargs):\n",
    "    for key, value in kwargs.items():\n",
    "        print(key + \": \" + str(value))"
   ]
  },
  {
   "cell_type": "code",
   "execution_count": 31,
   "id": "4e75c0cf-7f79-406b-bdd0-ab4c5b863b32",
   "metadata": {},
   "outputs": [
    {
     "name": "stdout",
     "output_type": "stream",
     "text": [
      "name: Archana\n",
      "age: 30\n",
      "city: Delhi \n",
      "\n",
      "name: Neha\n",
      "country: Bangalore\n"
     ]
    }
   ],
   "source": [
    "# Calling the function with different keyword arguments\n",
    "print_person_info(name=\"Archana\", age=30, city=\"Delhi \\n\")\n",
    "print_person_info(name=\"Neha\", country=\"Bangalore\")"
   ]
  },
  {
   "cell_type": "markdown",
   "id": "9c6de821-18ae-46e6-9dbf-9d7c3e13e41f",
   "metadata": {},
   "source": [
    "### Q3. What is an iterator in python? Name the method used to initialise the iterator object and the method used for iteration. Use these methods to print the first five elements of the given list [2, 4, 6, 8, 10, 12, 14, 16, 18, 20] "
   ]
  },
  {
   "cell_type": "markdown",
   "id": "6bc4dbb3-34fe-40fb-8145-5b3bf4dad73c",
   "metadata": {},
   "source": [
    "##### Answer:\n",
    "\n",
    "- An iterator is an object that allows to iterate over a sequence of elements. It provides a way to access the elements of a container, such as a list, tuple, or dictionary, one at a time, without needing to know the specific details of the underlying structure.\n",
    "\n",
    "- To initialize an iterator object in Python, can use the iter() function. This function takes an iterable as an argument and returns an iterator object.\n",
    "\n",
    "- The iterator object has a method called next() or __next__() that is used for iteration. This method returns the next element in the sequence. When all the elements have been iterated, it raises a StopIteration exception.\n",
    "\n",
    "Example:"
   ]
  },
  {
   "cell_type": "code",
   "execution_count": 27,
   "id": "dbae33b5-0cd4-4e48-b68c-525245c34090",
   "metadata": {},
   "outputs": [],
   "source": [
    "my_list = [2, 4, 6, 8, 10, 12, 14, 16, 18, 20]\n",
    "\n",
    "# Initialize the iterator object\n",
    "iteration = iter(my_list)"
   ]
  },
  {
   "cell_type": "code",
   "execution_count": 28,
   "id": "0d275068-049d-430a-a618-83585c08fc0d",
   "metadata": {},
   "outputs": [
    {
     "name": "stdout",
     "output_type": "stream",
     "text": [
      "2\n",
      "4\n",
      "6\n",
      "8\n",
      "10\n"
     ]
    }
   ],
   "source": [
    "# Iterate and print the first five elements\n",
    "for i in range(5):\n",
    "    element = next(iteration)\n",
    "    print(element)"
   ]
  },
  {
   "cell_type": "markdown",
   "id": "5137a31d-5ed7-40f1-9307-dca2026f55db",
   "metadata": {},
   "source": [
    "### Q4. What is a generator function in python? Why yield keyword is used? Give an example of a generator function."
   ]
  },
  {
   "cell_type": "markdown",
   "id": "f89f30cf-e8d8-4fe5-bcc4-b56683102adc",
   "metadata": {},
   "source": [
    "##### Answer:\n",
    "\n",
    "- A generator function is a special type of function that returns an iterator. It allows to define a function that behaves like an iterator, generating values on-the-fly instead of returning them all at once. This provides an efficient way to iterate over large sequences of data, as it generates values on-demand, saving memory and processing resources.\n",
    "\n",
    "- The yield keyword is used in generator functions to define points where the function should pause and yield a value to the caller. When the function encounters a yield statement, it temporarily suspends its execution and returns the yielded value. The state of the function is saved, allowing it to resume from where it left off when the next value is requested.\n",
    "\n",
    "Example:"
   ]
  },
  {
   "cell_type": "code",
   "execution_count": 32,
   "id": "5ccb142c-7b36-4ad4-a7e3-a5237f98ba96",
   "metadata": {},
   "outputs": [],
   "source": [
    "# Defining the function\n",
    "def square_numbers(n):\n",
    "    for i in range(n):\n",
    "        yield i ** 2"
   ]
  },
  {
   "cell_type": "code",
   "execution_count": 33,
   "id": "71dbbe92-1242-4faa-9968-911f94771d2d",
   "metadata": {},
   "outputs": [],
   "source": [
    "# Creating a generator object\n",
    "my_generator = square_numbers(5)"
   ]
  },
  {
   "cell_type": "code",
   "execution_count": 34,
   "id": "9c4598bd-bcd4-4523-8dcf-5f3ed59c07bb",
   "metadata": {},
   "outputs": [
    {
     "name": "stdout",
     "output_type": "stream",
     "text": [
      "0\n",
      "1\n",
      "4\n",
      "9\n",
      "16\n"
     ]
    }
   ],
   "source": [
    "# Iterate over the generator and print the values\n",
    "for num in my_generator:\n",
    "    print(num)"
   ]
  },
  {
   "cell_type": "markdown",
   "id": "b24e5fc8-69e4-4661-88f6-b45dc0dcf577",
   "metadata": {},
   "source": [
    "### Q5. Create a generator function for prime numbers less than 1000. Use the next() method to print the first 20 prime numbers."
   ]
  },
  {
   "cell_type": "markdown",
   "id": "d0c79a2c-1b75-4989-8b23-230397ebab7d",
   "metadata": {},
   "source": [
    "##### Answer:\n",
    "\n",
    "A generator function for prime numbers less than 1000 using the next() method is:\n",
    "\n",
    "Example:"
   ]
  },
  {
   "cell_type": "code",
   "execution_count": 38,
   "id": "ba13c2d1-84d5-48eb-a35a-bae3bfa4819b",
   "metadata": {},
   "outputs": [],
   "source": [
    "# Defining the function\n",
    "def prime_generator():\n",
    "    primes = []\n",
    "    num = 2\n",
    "    \n",
    "    # using while loop\n",
    "    while True:\n",
    "        is_prime = True\n",
    "        for prime in primes:\n",
    "            if prime * prime > num:\n",
    "                break\n",
    "            if num % prime == 0:\n",
    "                is_prime = False\n",
    "                break\n",
    "\n",
    "        if is_prime:\n",
    "            primes.append(num)\n",
    "            yield num\n",
    "\n",
    "        num += 1"
   ]
  },
  {
   "cell_type": "code",
   "execution_count": 39,
   "id": "47ac454c-43ce-4bb1-b71d-72a0990c60e5",
   "metadata": {},
   "outputs": [],
   "source": [
    "# Create a generator object\n",
    "primes_gen = prime_generator()"
   ]
  },
  {
   "cell_type": "code",
   "execution_count": 40,
   "id": "962192c9-5425-45aa-914e-8f2e008f5eec",
   "metadata": {},
   "outputs": [
    {
     "name": "stdout",
     "output_type": "stream",
     "text": [
      "2\n",
      "3\n",
      "5\n",
      "7\n",
      "11\n",
      "13\n",
      "17\n",
      "19\n",
      "23\n",
      "29\n",
      "31\n",
      "37\n",
      "41\n",
      "43\n",
      "47\n",
      "53\n",
      "59\n",
      "61\n",
      "67\n",
      "71\n"
     ]
    }
   ],
   "source": [
    "# Print the first 20 prime numbers using next()\n",
    "for i in range(20):\n",
    "    prime = next(primes_gen)\n",
    "    print(prime)"
   ]
  }
 ],
 "metadata": {
  "kernelspec": {
   "display_name": "Python 3 (ipykernel)",
   "language": "python",
   "name": "python3"
  },
  "language_info": {
   "codemirror_mode": {
    "name": "ipython",
    "version": 3
   },
   "file_extension": ".py",
   "mimetype": "text/x-python",
   "name": "python",
   "nbconvert_exporter": "python",
   "pygments_lexer": "ipython3",
   "version": "3.10.8"
  }
 },
 "nbformat": 4,
 "nbformat_minor": 5
}
