{
 "cells": [
  {
   "cell_type": "code",
   "execution_count": 4,
   "id": "4f3c84a0-c3c7-44b5-bb71-7a8d7210560a",
   "metadata": {},
   "outputs": [],
   "source": [
    "def pushZerosToEnd(nums, n):\n",
    "    count = 0 # Count of non-zero elements\n",
    "    for i in range(n):\n",
    "        if nums[i] != 0:\n",
    "            nums[count] = nums[i]\n",
    "            count+=1\n",
    "     \n",
    "    # Now all non-zero elements have been shifted to front and 'count' is set as index of first 0. Make all elements 0 from count to end.\n",
    "    while count < n:\n",
    "        nums[count] = 0\n",
    "        count += 1"
   ]
  },
  {
   "cell_type": "code",
   "execution_count": 6,
   "id": "8bd88107-96d3-4955-841b-1255a5d4873b",
   "metadata": {},
   "outputs": [
    {
     "name": "stdout",
     "output_type": "stream",
     "text": [
      "Array after pushing all zeros to end of array:\n",
      "[1, 3, 12, 0, 0]\n"
     ]
    }
   ],
   "source": [
    "# Driver code\n",
    "nums = [0,1,0,3,12]\n",
    "n = len(nums)\n",
    "pushZerosToEnd(nums, n)\n",
    "print(\"Array after pushing all zeros to end of array:\")\n",
    "print(nums)"
   ]
  },
  {
   "cell_type": "code",
   "execution_count": 7,
   "id": "45e34167-1763-4eb2-9ea6-40f109c76887",
   "metadata": {},
   "outputs": [
    {
     "name": "stdout",
     "output_type": "stream",
     "text": [
      "Array after pushing all zeros to end of array:\n",
      "[0]\n"
     ]
    }
   ],
   "source": [
    "nums = [0]\n",
    "n = len(nums)\n",
    "pushZerosToEnd(nums, n)\n",
    "print(\"Array after pushing all zeros to end of array:\")\n",
    "print(nums)"
   ]
  },
  {
   "cell_type": "code",
   "execution_count": null,
   "id": "2731456a-7b86-47c6-b1d2-80bebc6ef28b",
   "metadata": {},
   "outputs": [],
   "source": []
  }
 ],
 "metadata": {
  "kernelspec": {
   "display_name": "Python 3 (ipykernel)",
   "language": "python",
   "name": "python3"
  },
  "language_info": {
   "codemirror_mode": {
    "name": "ipython",
    "version": 3
   },
   "file_extension": ".py",
   "mimetype": "text/x-python",
   "name": "python",
   "nbconvert_exporter": "python",
   "pygments_lexer": "ipython3",
   "version": "3.10.8"
  }
 },
 "nbformat": 4,
 "nbformat_minor": 5
}
